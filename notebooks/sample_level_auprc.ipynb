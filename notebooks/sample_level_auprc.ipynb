{
 "cells": [
  {
   "cell_type": "code",
   "execution_count": 1,
   "metadata": {},
   "outputs": [],
   "source": [
    "import json\n",
    "import matplotlib.pyplot as plt\n",
    "import numpy as np\n",
    "import pandas as pd\n",
    "import scienceplots\n",
    "import seaborn as sns\n",
    "from matplotlib.lines import Line2D\n",
    "from pathlib import Path"
   ]
  },
  {
   "cell_type": "code",
   "execution_count": 2,
   "metadata": {},
   "outputs": [],
   "source": [
    "plt.style.use('science')"
   ]
  },
  {
   "cell_type": "code",
   "execution_count": 3,
   "metadata": {},
   "outputs": [],
   "source": [
    "date = \"2023-03-14-22-37-07\"\n",
    "experiment = \"hatexplain-lime-distilbert-2\"\n",
    "\n",
    "here_path = Path().absolute()\n",
    "experiments_path = here_path.parent / \"data\" / \"experiments\"\n",
    "experiment_path = experiments_path / date / experiment\n",
    "results_path = experiment_path / \"results.jsonl\""
   ]
  },
  {
   "cell_type": "code",
   "execution_count": 4,
   "metadata": {},
   "outputs": [],
   "source": [
    "results = []\n",
    "with open(results_path, 'r') as f:\n",
    "    for line in f:\n",
    "        results.append(json.loads(line))"
   ]
  },
  {
   "cell_type": "code",
   "execution_count": 5,
   "metadata": {},
   "outputs": [],
   "source": [
    "results = sorted(results, key=lambda x: x['weight'], reverse=True)\n",
    "results = results[:-1]\n",
    "weights = [result['weight'] for result in results]\n",
    "accuracies = [result['performance']['accuracy'] for result in results]\n",
    "grid = []\n",
    "filter_grid = []\n",
    "for result in results:\n",
    "    filtered_result = [el for el in result['explainability']['alternative_auprc'] if el is not None and not np.isnan(el)]\n",
    "    filter = [1 if el is not None and not np.isnan(el) else 0 for el in result['explainability']['alternative_auprc']]\n",
    "    grid.append(filtered_result)\n",
    "    filter_grid.append(filter)\n",
    "assert set(np.mean(filter_grid, axis=0)) == {0, 1}  # Therefore we can use the same filter in all models\n",
    "grid = np.array(grid)\n",
    "bad = grid[:, grid[0] != 1.0].mean(axis=1)\n",
    "good = grid[:, grid[0] == 1.0].mean(axis=1)"
   ]
  },
  {
   "cell_type": "code",
   "execution_count": 6,
   "metadata": {},
   "outputs": [
    {
     "data": {
      "image/png": "[encoded data removed]",
      "text/plain": [
       "<Figure size 252x189 with 2 Axes>"
      ]
     },
     "metadata": {
      "needs_background": "light"
     },
     "output_type": "display_data"
    }
   ],
   "source": [
    "w1 = weights\n",
    "\n",
    "fig, axes = plt.subplots(2, 1, sharex=True)\n",
    "\n",
    "x = accuracies\n",
    "y = good\n",
    "sns.scatterplot(\n",
    "    x=\"Accuracy\",\n",
    "    y=\"AUPRC\",\n",
    "    data=pd.DataFrame({\n",
    "        \"Accuracy\": x,\n",
    "        \"AUPRC\": y,\n",
    "    }),\n",
    "    hue=w1,\n",
    "    ax=axes[0],\n",
    "    palette=sns.color_palette(\"ch:start=.2,rot=-.3\", as_cmap=True),\n",
    ")\n",
    "\n",
    "x = accuracies\n",
    "y = bad\n",
    "sns.scatterplot(\n",
    "    x=\"Accuracy\",\n",
    "    y=\"AUPRC\",\n",
    "    data=pd.DataFrame({\n",
    "        \"Accuracy\": x,\n",
    "        \"AUPRC\": y,\n",
    "    }),\n",
    "    hue=w1,\n",
    "    ax=axes[1],\n",
    ")\n",
    "axes[0].get_legend().remove()\n",
    "axes[1].get_legend().remove()\n",
    "\n",
    "axes[0].spines['bottom'].set_visible(False)\n",
    "axes[1].spines['top'].set_visible(False)\n",
    "axes[0].xaxis.tick_top()\n",
    "axes[0].tick_params(labeltop=False)  # don't put tick labels at the top\n",
    "axes[1].xaxis.tick_bottom()\n",
    "\n",
    "d = .015\n",
    "kwargs = dict(transform=axes[0].transAxes, color='k', clip_on=False)\n",
    "axes[0].plot((-d, +d), (-d, +d), **kwargs)\n",
    "axes[0].plot((1 - d, 1 + d), (-d, +d), **kwargs)\n",
    "\n",
    "kwargs.update(transform=axes[1].transAxes)\n",
    "axes[1].plot((-d, +d), (1 - d, 1 + d), **kwargs)\n",
    "axes[1].plot((1 - d, 1 + d), (1 - d, 1 + d), **kwargs)\n",
    "\n",
    "axes[0].yaxis.set_label_coords(-0.16, -0.1)\n",
    "axes[1].set_ylabel(\"\")\n",
    "\n",
    "legend_elements = [\n",
    "    Line2D([0], [0], marker='o', \\\n",
    "        color=sns.color_palette(\"ch:start=.2,rot=-.3\", as_cmap=True)(1), \\\n",
    "            label='Good explanations', markersize=5),\n",
    "    Line2D([0], [0], marker='o', \\\n",
    "        color=sns.cubehelix_palette(as_cmap=True)(1), \\\n",
    "            label='Bad explanations', markersize=5),\n",
    "]\n",
    "\n",
    "axes[0].legend(handles=legend_elements, loc='upper left')\n",
    "\n",
    "plt.savefig(\"sample_level_auprc.pdf\", dpi=300, bbox_inches=\"tight\")"
   ]
  },
  {
   "cell_type": "code",
   "execution_count": 7,
   "metadata": {},
   "outputs": [
    {
     "name": "stdout",
     "output_type": "stream",
     "text": [
      "23 0.19537185696468617 0.8396363636363636 0.821847995830308\n"
     ]
    }
   ],
   "source": [
    "best = np.argmax(grid.mean(axis=1))\n",
    "print(best, weights[best], accuracies[best], grid[best].mean())"
   ]
  },
  {
   "cell_type": "code",
   "execution_count": 8,
   "metadata": {},
   "outputs": [
    {
     "name": "stdout",
     "output_type": "stream",
     "text": [
      "0.6473150322669033 0.6146781183678323\n",
      "0.032636913899071085\n",
      "1.0530959422888397\n"
     ]
    }
   ],
   "source": [
    "print(bad[best], bad[0])\n",
    "print(bad[best] - bad[0])\n",
    "print(bad[best]/bad[0])"
   ]
  },
  {
   "cell_type": "code",
   "execution_count": 9,
   "metadata": {},
   "outputs": [
    {
     "name": "stdout",
     "output_type": "stream",
     "text": [
      "0.9902621075826418 1.0\n",
      "-0.00973789241735823\n",
      "0.9902621075826418\n"
     ]
    }
   ],
   "source": [
    "print(good[best], good[0])\n",
    "print(good[best] - good[0])\n",
    "print(good[best]/good[0])"
   ]
  },
  {
   "cell_type": "code",
   "execution_count": 10,
   "metadata": {},
   "outputs": [
    {
     "data": {
      "text/plain": [
       "0.5089209855564996"
      ]
     },
     "execution_count": 10,
     "metadata": {},
     "output_type": "execute_result"
    }
   ],
   "source": [
    "(grid[0] == 1.0).mean()"
   ]
  }
 ],
 "metadata": {
  "kernelspec": {
   "display_name": "explainability-experiments-clone",
   "language": "python",
   "name": "python3"
  },
  "language_info": {
   "codemirror_mode": {
    "name": "ipython",
    "version": 3
   },
   "file_extension": ".py",
   "mimetype": "text/x-python",
   "name": "python",
   "nbconvert_exporter": "python",
   "pygments_lexer": "ipython3",
   "version": "3.7.13"
  },
  "orig_nbformat": 4,
  "vscode": {
   "interpreter": {
    "hash": "91f38a7eba530c0d2410741fe2786371fc960c0e41229cff448fdbb4c08e5ebe"
   }
  }
 },
 "nbformat": 4,
 "nbformat_minor": 2
}
