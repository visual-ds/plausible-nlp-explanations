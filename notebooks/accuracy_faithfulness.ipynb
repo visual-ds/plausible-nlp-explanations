{
 "cells": [
  {
   "attachments": {},
   "cell_type": "markdown",
   "metadata": {},
   "source": [
    "# Accuracy vs. faithfulness"
   ]
  },
  {
   "cell_type": "code",
   "execution_count": 1,
   "metadata": {},
   "outputs": [],
   "source": [
    "import json\n",
    "import matplotlib.pyplot as plt\n",
    "import numpy as np\n",
    "import pandas as pd\n",
    "import scienceplots\n",
    "import seaborn as sns\n",
    "from matplotlib.lines import Line2D\n",
    "from pathlib import Path"
   ]
  },
  {
   "cell_type": "code",
   "execution_count": 2,
   "metadata": {},
   "outputs": [],
   "source": [
    "plt.style.use('science')"
   ]
  },
  {
   "cell_type": "code",
   "execution_count": 3,
   "metadata": {},
   "outputs": [],
   "source": [
    "date = \"2023-03-14-22-37-07\"\n",
    "experiment = \"hatexplain-lime-distilbert-2\"\n",
    "\n",
    "here_path = Path().absolute()\n",
    "experiments_path = here_path.parent / \"data\" / \"experiments\"\n",
    "experiment_path = experiments_path / date / experiment\n",
    "results_path = experiment_path / \"results.jsonl\""
   ]
  },
  {
   "cell_type": "code",
   "execution_count": 4,
   "metadata": {},
   "outputs": [],
   "source": [
    "results = []\n",
    "with open(results_path, 'r') as f:\n",
    "    for line in f:\n",
    "        results.append(json.loads(line))"
   ]
  },
  {
   "cell_type": "code",
   "execution_count": 5,
   "metadata": {},
   "outputs": [],
   "source": [
    "all_results = sorted(results, key=lambda x: x['weight'])\n",
    "weights = [result['weight'] for result in results]"
   ]
  },
  {
   "cell_type": "code",
   "execution_count": 6,
   "metadata": {},
   "outputs": [],
   "source": [
    "weights = weights[1:]\n",
    "all_results = all_results[1:]"
   ]
  },
  {
   "cell_type": "code",
   "execution_count": 7,
   "metadata": {},
   "outputs": [],
   "source": [
    "def filter_results(results):\n",
    "    \"\"\"Filter the results.\n",
    "\n",
    "    Remove the None and NaN values from the results.\n",
    "\n",
    "    Args:\n",
    "        results (list of float): Results to filter.\n",
    "    \n",
    "    Returns:\n",
    "        list of float: Filtered results.\n",
    "    \"\"\"\n",
    "    return [result for result in results \\\n",
    "        if result is not None and not np.isnan(result)]"
   ]
  },
  {
   "cell_type": "code",
   "execution_count": 8,
   "metadata": {},
   "outputs": [
    {
     "data": {
      "image/png": "[encoded data removed]",
      "text/plain": [
       "<Figure size 288x144 with 2 Axes>"
      ]
     },
     "metadata": {
      "needs_background": "light"
     },
     "output_type": "display_data"
    }
   ],
   "source": [
    "fig, axes = plt.subplots(1, 2, figsize=(4, 2))\n",
    "\n",
    "x = []\n",
    "y = []\n",
    "for results in all_results:\n",
    "    x.append(results['performance']['accuracy'])\n",
    "    y.append(\n",
    "        - np.mean(\n",
    "            filter_results(results['explainability']['sufficiency_aopc'])\n",
    "        )\n",
    "    )\n",
    "sns.scatterplot(\n",
    "    x=\"Accuracy\",\n",
    "    y=\"Sufficiency\",\n",
    "    data=pd.DataFrame({\n",
    "        \"Accuracy\": x,\n",
    "        \"Sufficiency\": y,\n",
    "    }),\n",
    "    hue=weights,\n",
    "    ax=axes[0],\n",
    ")\n",
    "x_1 = x\n",
    "y_1 = y\n",
    "\n",
    "# x = []\n",
    "# y = []\n",
    "# for results in all_results:\n",
    "#     x.append(results['performance']['accuracy'])\n",
    "#     y.append(\n",
    "#         np.mean(\n",
    "#             filter_results(results['explainability']['random_sufficiency_aopc'])\n",
    "#         )\n",
    "#     )\n",
    "# sns.scatterplot(\n",
    "#     x=\"Accuracy\",\n",
    "#     y=\"Random sufficiency\",\n",
    "#     data=pd.DataFrame({\n",
    "#         \"Accuracy\": x,\n",
    "#         \"Random sufficiency\": y,\n",
    "#     }),\n",
    "#     ax=axes[0],\n",
    "#     hue=weights,\n",
    "#     palette=sns.color_palette(\"crest\", as_cmap=True),\n",
    "# )\n",
    "\n",
    "x = []\n",
    "y = []\n",
    "for results in all_results:\n",
    "    x.append(results['performance']['accuracy'])\n",
    "    y.append(\n",
    "        np.mean(\n",
    "            filter_results(results['explainability']['comprehensiveness_aopc'])\n",
    "        )\n",
    "    )\n",
    "sns.scatterplot(\n",
    "    x=\"Accuracy\",\n",
    "    y=\"Comprehensiveness\",\n",
    "    data=pd.DataFrame({\n",
    "        \"Accuracy\": x,\n",
    "        \"Comprehensiveness\": y,\n",
    "    }),\n",
    "    hue=weights,\n",
    "    ax=axes[1],\n",
    ")\n",
    "x_2 = x\n",
    "y_2 = y\n",
    "\n",
    "# x = []\n",
    "# y = []\n",
    "# for results in all_results:\n",
    "#     x.append(results['performance']['accuracy'])\n",
    "#     y.append(\n",
    "#         np.mean(\n",
    "#             filter_results(results['explainability']['random_comprehensiveness_aopc'])\n",
    "#         )\n",
    "#     )\n",
    "# sns.scatterplot(\n",
    "#     x=\"Accuracy\",\n",
    "#     y=\"Random comprehensiveness\",\n",
    "#     data=pd.DataFrame({\n",
    "#         \"Accuracy\": x,\n",
    "#         \"Random comprehensiveness\": y,\n",
    "#     }),\n",
    "#     ax=axes[1],\n",
    "#     hue=weights,\n",
    "#     palette=sns.color_palette(\"crest\", as_cmap=True),\n",
    "# )\n",
    "\n",
    "axes[0].get_legend().remove()\n",
    "axes[0].set_xlabel(\"\")\n",
    "axes[1].get_legend().remove()\n",
    "axes[1].set_xlabel(\"\")\n",
    "# norm = plt.Normalize(0, max(weights))\n",
    "# cmap = sns.cubehelix_palette(as_cmap=True)\n",
    "# sm = plt.cm.ScalarMappable(cmap=cmap, norm=norm)\n",
    "# fig.colorbar(\n",
    "#     sm,\n",
    "#     orientation=\"vertical\",\n",
    "#     label=\"Cross-entropy weight ($w_1$)\",\n",
    "# )\n",
    "\n",
    "# axes[1].legend(\n",
    "#     [Line2D([0], [0], color='green', lw=3)],\n",
    "#     [\"Random\"],\n",
    "#     loc='center left',\n",
    "# )\n",
    "\n",
    "# axes[0].set_ylabel(\"Faithfulness\")\n",
    "# axes[0].set_title(\"Sufficiency\")\n",
    "# axes[1].set_ylabel(\"\")\n",
    "# axes[1].set_title(\"Comprehensiveness\")\n",
    "\n",
    "x_1_min = min(x_1)\n",
    "x_1_max = max(x_1)\n",
    "x_1_size = x_1_max - x_1_min\n",
    "y_1_min = min(y_1)\n",
    "y_1_max = max(y_1)\n",
    "y_1_size = y_1_max - y_1_min\n",
    "x_2_min = min(x_2)\n",
    "x_2_max = max(x_2)\n",
    "x_2_size = x_2_max - x_2_min\n",
    "y_2_min = min(y_2)\n",
    "y_2_max = max(y_2)\n",
    "y_2_size = y_2_max - y_2_min\n",
    "max_size = max(x_1_size, y_1_size, x_2_size, y_2_size)*1.1\n",
    "axes[0].set_xlim(x_1_min - (max_size - x_1_size) / 2, x_1_max + (max_size - x_1_size) / 2)\n",
    "axes[0].set_ylim(y_1_min - (max_size - y_1_size) / 2, y_1_max + (max_size - y_1_size) / 2)\n",
    "axes[1].set_xlim(x_2_min - (max_size - x_2_size) / 2, x_2_max + (max_size - x_2_size) / 2)\n",
    "axes[1].set_ylim(y_2_min - (max_size - y_2_size) / 2, y_2_max + (max_size - y_2_size) / 2)\n",
    "\n",
    "fig.tight_layout(rect=(0, 0.05, 0.9, 1))\n",
    "fig.supxlabel(\"Accuracy\")\n",
    "plt.savefig(\"accuracy_faithfulness.pdf\", dpi=300, bbox_inches=\"tight\")"
   ]
  }
 ],
 "metadata": {
  "kernelspec": {
   "display_name": "explainability-experiments-clone",
   "language": "python",
   "name": "python3"
  },
  "language_info": {
   "codemirror_mode": {
    "name": "ipython",
    "version": 3
   },
   "file_extension": ".py",
   "mimetype": "text/x-python",
   "name": "python",
   "nbconvert_exporter": "python",
   "pygments_lexer": "ipython3",
   "version": "3.7.13"
  },
  "orig_nbformat": 4,
  "vscode": {
   "interpreter": {
    "hash": "91f38a7eba530c0d2410741fe2786371fc960c0e41229cff448fdbb4c08e5ebe"
   }
  }
 },
 "nbformat": 4,
 "nbformat_minor": 2
}
