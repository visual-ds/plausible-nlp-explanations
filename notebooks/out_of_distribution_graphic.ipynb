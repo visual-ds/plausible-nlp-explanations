{
 "cells": [
  {
   "attachments": {},
   "cell_type": "markdown",
   "metadata": {},
   "source": [
    "# Graphics and tables"
   ]
  },
  {
   "attachments": {},
   "cell_type": "markdown",
   "metadata": {},
   "source": [
    "Graphics and tables for the paper."
   ]
  },
  {
   "attachments": {},
   "cell_type": "markdown",
   "metadata": {},
   "source": [
    "## Setup"
   ]
  },
  {
   "cell_type": "code",
   "execution_count": 1,
   "metadata": {},
   "outputs": [],
   "source": [
    "import json\n",
    "import matplotlib.pyplot as plt\n",
    "import numpy as np\n",
    "import pandas as pd\n",
    "import scienceplots\n",
    "import seaborn as sns\n",
    "from pathlib import Path"
   ]
  },
  {
   "cell_type": "code",
   "execution_count": 2,
   "metadata": {},
   "outputs": [],
   "source": [
    "plt.style.use('science')"
   ]
  },
  {
   "attachments": {},
   "cell_type": "markdown",
   "metadata": {},
   "source": [
    "## Experiments"
   ]
  },
  {
   "cell_type": "code",
   "execution_count": 3,
   "metadata": {},
   "outputs": [
    {
     "data": {
      "text/plain": [
       "'2023-08-25-02-02-39'"
      ]
     },
     "execution_count": 3,
     "metadata": {},
     "output_type": "execute_result"
    }
   ],
   "source": [
    "# Copied and pasted from Google Sheets\n",
    "all_experiments = \"2023-08-25-02-02-39\"\n",
    "all_experiments"
   ]
  },
  {
   "attachments": {},
   "cell_type": "markdown",
   "metadata": {},
   "source": [
    "## Data loading"
   ]
  },
  {
   "cell_type": "code",
   "execution_count": 4,
   "metadata": {},
   "outputs": [
    {
     "name": "stdout",
     "output_type": "stream",
     "text": [
      "hatexplain-lime-distilbert-2\n"
     ]
    }
   ],
   "source": [
    "all_results = dict()\n",
    "experiments = []\n",
    "\n",
    "for item in Path(\"..\").glob(\"data/experiments/*\"):\n",
    "    if item.is_dir() and item.name in all_experiments:\n",
    "        for experiment in item.glob(\"*\"):\n",
    "            if experiment.is_dir():\n",
    "                if (experiment / \"results.jsonl\").exists():\n",
    "                    experiment_name = experiment.name\n",
    "                    print(experiment_name)\n",
    "                    experiments.append(experiment_name)\n",
    "                    all_results[experiment_name] = []\n",
    "                    with open(experiment / \"results.jsonl\", 'r') as f:\n",
    "                        for line in f:\n",
    "                            all_results[experiment_name].append(json.loads(line))"
   ]
  },
  {
   "attachments": {},
   "cell_type": "markdown",
   "metadata": {},
   "source": [
    "## Plot graphics"
   ]
  },
  {
   "cell_type": "code",
   "execution_count": 5,
   "metadata": {},
   "outputs": [],
   "source": [
    "def filter_results(results):\n",
    "    \"\"\"Filter the results.\n",
    "\n",
    "    Remove the None and NaN values from the results.\n",
    "\n",
    "    Args:\n",
    "        results (list of float): Results to filter.\n",
    "    \n",
    "    Returns:\n",
    "        list of float: Filtered results.\n",
    "    \"\"\"\n",
    "    return [result for result in results \\\n",
    "        if result is not None and not np.isnan(result)]"
   ]
  },
  {
   "cell_type": "code",
   "execution_count": 6,
   "metadata": {},
   "outputs": [],
   "source": [
    "good_result_map = {\n",
    "    \"hatexplain-lime-distilbert-2\": 5,\n",
    "}"
   ]
  },
  {
   "cell_type": "code",
   "execution_count": 7,
   "metadata": {},
   "outputs": [],
   "source": [
    "def pareto_frontier(x, y):\n",
    "    \"\"\"Compute the Pareto frontier of the given points\n",
    "\n",
    "    Args:\n",
    "        x (list of float): X coordinates.\n",
    "        y (list of float): Y coordinates.\n",
    "    \n",
    "    Returns:\n",
    "        list of float: X coordinates of the Pareto frontier.\n",
    "        list of float: Y coordinates of the Pareto frontier.\n",
    "    \"\"\"\n",
    "    # Revert sort the points\n",
    "    indices = range(len(x))\n",
    "    # Sort the points x and, when x is equal, sort by y\n",
    "    points = sorted(zip(x, y, indices), key=lambda x: (x[0], x[1]))\n",
    "    points = points[::-1]\n",
    "    # Add the first point\n",
    "    frontier_x = [points[0][0]]\n",
    "    frontier_y = [points[0][1]]\n",
    "    indices = [points[0][2]]\n",
    "    # Add the rest of the points\n",
    "    for point in points[1:]:\n",
    "        if point[1] > frontier_y[-1]:\n",
    "            frontier_x.append(point[0])\n",
    "            frontier_y.append(point[1])\n",
    "            indices.append(point[2])\n",
    "    return frontier_x, frontier_y, indices\n",
    "\n",
    "def plot_graphic(name, results, ax, frontier=False, all_results=False, performance_metric=\"accuracy\"):\n",
    "    results = sorted(results, key=lambda x: x['weight'])\n",
    "    if not all_results:\n",
    "        results = results[1:]  # Remove the first result (cross-entropy weight = 0)\n",
    "    weights = [result['weight'] for result in results]\n",
    "\n",
    "    explainability_metric = \"alternative_auprc\"\n",
    "    x = []\n",
    "    y = []\n",
    "    for result in results:\n",
    "        x.append(result['performance'][performance_metric])\n",
    "        y.append(\n",
    "            np.mean(\n",
    "                filter_results(result['explainability'][explainability_metric])\n",
    "            )\n",
    "        )\n",
    "\n",
    "    if frontier:\n",
    "        x_frontier, y_frontier, indices = pareto_frontier(x, y)\n",
    "\n",
    "        sns.scatterplot(\n",
    "            x=\"Accuracy\",\n",
    "            y=\"AUPRC\",\n",
    "            data=pd.DataFrame({\n",
    "                \"Accuracy\": x,\n",
    "                \"AUPRC\": y,\n",
    "            }),\n",
    "            ax=ax,\n",
    "            color=\"gray\",\n",
    "            alpha=0.1,\n",
    "        )\n",
    "        sns.scatterplot(\n",
    "            x=\"Accuracy\",\n",
    "            y=\"AUPRC\",\n",
    "            data=pd.DataFrame({\n",
    "                \"Accuracy\": x_frontier,\n",
    "                \"AUPRC\": y_frontier\n",
    "            }),\n",
    "            hue=[weights[index] for index in indices],\n",
    "            ax=ax,\n",
    "        )\n",
    "        min_x = min(x_frontier)\n",
    "        max_x = max(x_frontier)\n",
    "        min_y = min(y_frontier)\n",
    "        max_y = max(y_frontier)\n",
    "        if min_x != max_x:\n",
    "            size = max_x - min_x\n",
    "            if size < 1e-4:\n",
    "                size = 1e-4\n",
    "            ax.set_xlim(min_x - size*0.3, max_x + size*0.3)\n",
    "        else:\n",
    "            ax.set_xlim(min_x - 0.02, max_x + 0.02)\n",
    "        if min_y != max_y:\n",
    "            size = max_y - min_y\n",
    "            if size < 1e-4:\n",
    "                size = 1e-4\n",
    "            ax.set_ylim(min_y - size*0.3, max_y + size*0.3)\n",
    "        else:\n",
    "            ax.set_ylim(min_y - 0.02, max_y + 0.02)\n",
    "    else:\n",
    "        sns.scatterplot(\n",
    "            x=\"Accuracy\",\n",
    "            y=\"AUPRC\",\n",
    "            data=pd.DataFrame({\n",
    "                \"Accuracy\": x,\n",
    "                \"AUPRC\": y,\n",
    "            }),\n",
    "            hue=weights,\n",
    "            ax=ax,\n",
    "        )\n",
    "\n",
    "        if not all_results:\n",
    "            good_result_index = good_result_map[name]\n",
    "            x = x[good_result_index]\n",
    "            y = y[good_result_index]\n",
    "            ax.scatter(x, y)\n",
    "\n",
    "    ax.get_legend().remove()\n",
    "    ax.set_xlabel(\"\")\n",
    "    ax.set_ylabel(\"\")\n",
    "    \n",
    "    # norm = plt.Normalize(0, max(weights))\n",
    "    # cmap = sns.cubehelix_palette(as_cmap=True)\n",
    "    # sm = plt.cm.ScalarMappable(cmap=cmap, norm=norm)\n",
    "    # fig.colorbar(\n",
    "    #     sm,\n",
    "    #     orientation=\"vertical\",\n",
    "    #     label=\"Cross-entropy weight ($w_1$)\",\n",
    "    # )\n",
    "    # plt.savefig(\"accuracy_auprc.pdf\", dpi=300, bbox_inches=\"tight\")    "
   ]
  },
  {
   "cell_type": "code",
   "execution_count": 8,
   "metadata": {},
   "outputs": [],
   "source": [
    "def get_table_line(experiment_name, results):\n",
    "    results = sorted(results, key=lambda x: x['weight'])\n",
    "    results = results[1:]  # Remove the first result (cross-entropy weight = 0)\n",
    "    bad_result = results[-1]\n",
    "    good_result = results[good_result_map[experiment_name]]\n",
    "    # x = good_result['performance']['accuracy']\n",
    "    # y = np.mean(filter_results(good_result['explainability']['alternative_auprc']))\n",
    "    weight = good_result['weight']\n",
    "\n",
    "    good_accuracy = good_result['performance']['accuracy']\n",
    "    bad_accuracy = bad_result['performance']['accuracy']\n",
    "    accuracy_gain = (good_accuracy - bad_accuracy) * 100\n",
    "\n",
    "    good_accuracy_hateval = good_result['performance']['accuracy_hateval']\n",
    "    bad_accuracy_hateval = bad_result['performance']['accuracy_hateval']\n",
    "    accuracy_gain_hateval = (good_accuracy_hateval - bad_accuracy_hateval) * 100\n",
    "\n",
    "    good_auprc = np.mean(filter_results(good_result['explainability']['alternative_auprc']))\n",
    "    bad_auprc = np.mean(filter_results(bad_result['explainability']['alternative_auprc']))\n",
    "    auprc_gain = (good_auprc - bad_auprc) * 100\n",
    "    auprc_gain_relative = (good_auprc - bad_auprc) / bad_auprc * 100\n",
    "\n",
    "    good_sufficiency = np.mean(filter_results(good_result['explainability']['sufficiency_aopc']))\n",
    "    bad_sufficiency = np.mean(filter_results(bad_result['explainability']['sufficiency_aopc']))\n",
    "    # sufficiency_gain = (good_sufficiency - bad_sufficiency) * 100\n",
    "\n",
    "    good_random_sufficiency = np.mean(filter_results(good_result['explainability']['random_sufficiency_aopc']))\n",
    "    bad_random_sufficiency = np.mean(filter_results(bad_result['explainability']['random_sufficiency_aopc']))\n",
    "    # random_sufficiency_gain = (good_random_sufficiency - bad_random_sufficiency) * 100\n",
    "\n",
    "    delta_good_sufficiency = -good_sufficiency\n",
    "    delta_bad_sufficiency = -bad_sufficiency\n",
    "    sufficiency_gain = (delta_good_sufficiency - delta_bad_sufficiency)\n",
    "\n",
    "    good_comprehensiveness = np.mean(filter_results(good_result['explainability']['comprehensiveness_aopc']))\n",
    "    bad_comprehensiveness = np.mean(filter_results(bad_result['explainability']['comprehensiveness_aopc']))\n",
    "    # comprehensiveness_gain = (good_comprehensiveness - bad_comprehensiveness) * 100\n",
    "\n",
    "    good_random_comprehensiveness = np.mean(filter_results(good_result['explainability']['random_comprehensiveness_aopc']))\n",
    "    bad_random_comprehensiveness = np.mean(filter_results(bad_result['explainability']['random_comprehensiveness_aopc']))\n",
    "    # random_comprehensiveness_gain = (good_random_comprehensiveness - bad_random_comprehensiveness) * 100\n",
    "\n",
    "    delta_good_comprehensiveness = good_comprehensiveness #  - good_random_comprehensiveness\n",
    "    delta_bad_comprehensiveness = bad_comprehensiveness #  - bad_random_comprehensiveness\n",
    "    comprehensiveness_gain = (delta_good_comprehensiveness - delta_bad_comprehensiveness)\n",
    "    \n",
    "    return [experiment_name, weight, accuracy_gain, auprc_gain, auprc_gain_relative, sufficiency_gain, comprehensiveness_gain, accuracy_gain_hateval]"
   ]
  },
  {
   "cell_type": "code",
   "execution_count": 9,
   "metadata": {},
   "outputs": [
    {
     "data": {
      "image/png": "[encoded data removed]",
      "text/plain": [
       "<Figure size 360x216 with 2 Axes>"
      ]
     },
     "metadata": {
      "needs_background": "light"
     },
     "output_type": "display_data"
    }
   ],
   "source": [
    "table_all = []\n",
    "fig = plt.figure(figsize=(5, 3))\n",
    "        \n",
    "grid = np.array([[\"accuracy\", \"accuracy_hateval\"]])\n",
    "axes = fig.subplot_mosaic(grid, sharey=True)\n",
    "\n",
    "key = \"hatexplain-lime-distilbert-2\"\n",
    "line = get_table_line(key, all_results[key])\n",
    "table_all.append(line)\n",
    "\n",
    "for performance_metric in axes.keys():\n",
    "    plot_graphic(key, all_results[key], axes[performance_metric], performance_metric=performance_metric)\n",
    "\n",
    "for key in grid[0]:\n",
    "    axes[key].set_xlabel({\n",
    "        \"accuracy\": \"HateXplain accuracy\",\n",
    "        \"accuracy_hateval\": \"HateEval accuracy\",\n",
    "    }[key])\n",
    "    axes[key].xaxis.set_label_position('bottom')\n",
    "\n",
    "axes[grid[0][0]].set_ylabel(\"HateXplain AUPRC\")\n",
    "\n",
    "plt.subplots_adjust(wspace=0.3)\n",
    "plt.savefig(\n",
    "    f\"out_of_distribution_graphic.pdf\",\n",
    "    dpi=300,\n",
    "    bbox_inches=\"tight\",\n",
    ")\n",
    "plt.show()\n",
    "plt.close()"
   ]
  },
  {
   "cell_type": "code",
   "execution_count": 10,
   "metadata": {},
   "outputs": [
    {
     "name": "stdout",
     "output_type": "stream",
     "text": [
      "\\begin{tabular}{llllllll}\n",
      "\\hline\n",
      "{} &    w1 &   Acc. & AUPRC & AUPRC (rel.) & Suff. &  Comp. & Acc. (HateEval) \\\\\n",
      "Model                        &       &        &       &              &       &        &                 \\\\\n",
      "\\hline\n",
      "hatexplain-lime-distilbert-2 &  0.20 &  -0.80 &  1.09 &         1.35 &  0.25 &  -0.03 &            0.47 \\\\\n",
      "\\hline\n",
      "\\end{tabular}\n",
      "\n"
     ]
    }
   ],
   "source": [
    "table_all_df = pd.DataFrame(table_all)\n",
    "table_all_df.columns = [\"Model\", \"w1\", \"Acc.\", \"AUPRC\", \"AUPRC (rel.)\", \"Suff.\", \"Comp.\", \"Acc. (HateEval)\"]\n",
    "table_all_df = table_all_df.set_index(\"Model\", inplace=False)\n",
    "\n",
    "table_all_df['w1'] = table_all_df['w1'].apply(\n",
    "    lambda x: f\"{round(x, 2):.2f}\" if round(x, 2) != 0.0 else f\"{round(x, 3):.3f}\"\n",
    ")\n",
    "other_columns = [\"Acc.\", \"AUPRC\", \"AUPRC (rel.)\", \"Suff.\", \"Comp.\", \"Acc. (HateEval)\"]\n",
    "table_all_df[other_columns] = table_all_df[other_columns].applymap(\n",
    "    lambda x: f\"{round(x, 2):.2f}\"\n",
    ")\n",
    "latex = table_all_df.to_latex()\n",
    "latex = latex.replace(\"{lllllll}\", \"{lr|ccccc}\")\n",
    "latex = latex.replace(r\"\\toprule\", r\"\\hline\")\n",
    "latex = latex.replace(r\"\\midrule\", r\"\\hline\")\n",
    "latex = latex.replace(r\"\\bottomrule\", r\"\\hline\")\n",
    "# latex = latex.replace(\n",
    "#     r\"{} &     w1 &   Acc. & AUPRC & AUPRC (rel.) &  Suff. &  Comp. \\\\\",\n",
    "#     r\"\\textbf{Model}           & \\textbf{$w_1$} & \\textbf{Acc. \\%} & \\textbf{AUPRC \\%} & \\textbf{AUPRC rel. \\%} & \\textbf{Suff.} & \\textbf{Comp.} \\\\\"\n",
    "# )\n",
    "print(latex)"
   ]
  },
  {
   "cell_type": "code",
   "execution_count": 11,
   "metadata": {},
   "outputs": [
    {
     "data": {
      "text/html": [
       "<div>\n",
       "<style scoped>\n",
       "    .dataframe tbody tr th:only-of-type {\n",
       "        vertical-align: middle;\n",
       "    }\n",
       "\n",
       "    .dataframe tbody tr th {\n",
       "        vertical-align: top;\n",
       "    }\n",
       "\n",
       "    .dataframe thead th {\n",
       "        text-align: right;\n",
       "    }\n",
       "</style>\n",
       "<table border=\"1\" class=\"dataframe\">\n",
       "  <thead>\n",
       "    <tr style=\"text-align: right;\">\n",
       "      <th></th>\n",
       "      <th>w1</th>\n",
       "      <th>Acc.</th>\n",
       "      <th>AUPRC</th>\n",
       "      <th>AUPRC (rel.)</th>\n",
       "      <th>Suff.</th>\n",
       "      <th>Comp.</th>\n",
       "      <th>Acc. (HateEval)</th>\n",
       "    </tr>\n",
       "    <tr>\n",
       "      <th>Model</th>\n",
       "      <th></th>\n",
       "      <th></th>\n",
       "      <th></th>\n",
       "      <th></th>\n",
       "      <th></th>\n",
       "      <th></th>\n",
       "      <th></th>\n",
       "    </tr>\n",
       "  </thead>\n",
       "  <tbody>\n",
       "    <tr>\n",
       "      <th>hatexplain-lime-distilbert-2</th>\n",
       "      <td>0.20</td>\n",
       "      <td>-0.80</td>\n",
       "      <td>1.09</td>\n",
       "      <td>1.35</td>\n",
       "      <td>0.25</td>\n",
       "      <td>-0.03</td>\n",
       "      <td>0.47</td>\n",
       "    </tr>\n",
       "  </tbody>\n",
       "</table>\n",
       "</div>"
      ],
      "text/plain": [
       "                                w1   Acc. AUPRC AUPRC (rel.) Suff.  Comp.  \\\n",
       "Model                                                                       \n",
       "hatexplain-lime-distilbert-2  0.20  -0.80  1.09         1.35  0.25  -0.03   \n",
       "\n",
       "                             Acc. (HateEval)  \n",
       "Model                                         \n",
       "hatexplain-lime-distilbert-2            0.47  "
      ]
     },
     "execution_count": 11,
     "metadata": {},
     "output_type": "execute_result"
    }
   ],
   "source": [
    "table_all_df"
   ]
  },
  {
   "cell_type": "code",
   "execution_count": 12,
   "metadata": {},
   "outputs": [],
   "source": [
    "good_result_map = {\n",
    "    \"hatexplain-lime-distilbert-2\": 4,\n",
    "}"
   ]
  },
  {
   "cell_type": "code",
   "execution_count": 13,
   "metadata": {},
   "outputs": [
    {
     "data": {
      "image/png": "[encoded data removed]",
      "text/plain": [
       "<Figure size 540x216 with 2 Axes>"
      ]
     },
     "metadata": {
      "needs_background": "light"
     },
     "output_type": "display_data"
    }
   ],
   "source": [
    "table_all = []\n",
    "fig = plt.figure(figsize=(7.5, 3))\n",
    "        \n",
    "grid = np.array([[\"accuracy\", \"accuracy_hateval\"]])\n",
    "axes = fig.subplot_mosaic(grid)\n",
    "\n",
    "key = \"hatexplain-lime-distilbert-2\"\n",
    "line = get_table_line(key, all_results[key])\n",
    "table_all.append(line)\n",
    "\n",
    "for performance_metric in axes.keys():\n",
    "    plot_graphic(key, all_results[key], axes[performance_metric], performance_metric=performance_metric)\n",
    "\n",
    "for key in grid[0]:\n",
    "    axes[key].set_xlabel({\n",
    "        \"accuracy\": \"HateXplain ccuracy\",\n",
    "        \"accuracy_hateval\": \"HateEval accuracy\",\n",
    "    }[key])\n",
    "    axes[key].xaxis.set_label_position('top')\n",
    "\n",
    "plt.subplots_adjust(wspace=0.3)\n",
    "# plt.savefig(\n",
    "#     f\"complete_graphic_{explainer}_{negative_rationales}.pdf\",\n",
    "#     dpi=300,\n",
    "#     bbox_inches=\"tight\",\n",
    "# )\n",
    "plt.show()\n",
    "plt.close()"
   ]
  },
  {
   "cell_type": "code",
   "execution_count": 14,
   "metadata": {},
   "outputs": [
    {
     "name": "stdout",
     "output_type": "stream",
     "text": [
      "\\begin{tabular}{llllllll}\n",
      "\\hline\n",
      "{} &    w1 &   Acc. & AUPRC & AUPRC (rel.) & Suff. &  Comp. & Acc. (HateEval) \\\\\n",
      "Model                        &       &        &       &              &       &        &                 \\\\\n",
      "\\hline\n",
      "hatexplain-lime-distilbert-2 &  0.03 &  -3.64 &  0.97 &         1.19 &  0.31 &  -0.05 &            1.32 \\\\\n",
      "\\hline\n",
      "\\end{tabular}\n",
      "\n"
     ]
    }
   ],
   "source": [
    "table_all_df = pd.DataFrame(table_all)\n",
    "table_all_df.columns = [\"Model\", \"w1\", \"Acc.\", \"AUPRC\", \"AUPRC (rel.)\", \"Suff.\", \"Comp.\", \"Acc. (HateEval)\"]\n",
    "table_all_df = table_all_df.set_index(\"Model\", inplace=False)\n",
    "\n",
    "table_all_df['w1'] = table_all_df['w1'].apply(\n",
    "    lambda x: f\"{round(x, 2):.2f}\" if round(x, 2) != 0.0 else f\"{round(x, 3):.3f}\"\n",
    ")\n",
    "other_columns = [\"Acc.\", \"AUPRC\", \"AUPRC (rel.)\", \"Suff.\", \"Comp.\", \"Acc. (HateEval)\"]\n",
    "table_all_df[other_columns] = table_all_df[other_columns].applymap(\n",
    "    lambda x: f\"{round(x, 2):.2f}\"\n",
    ")\n",
    "latex = table_all_df.to_latex()\n",
    "latex = latex.replace(\"{lllllll}\", \"{lr|ccccc}\")\n",
    "latex = latex.replace(r\"\\toprule\", r\"\\hline\")\n",
    "latex = latex.replace(r\"\\midrule\", r\"\\hline\")\n",
    "latex = latex.replace(r\"\\bottomrule\", r\"\\hline\")\n",
    "# latex = latex.replace(\n",
    "#     r\"{} &     w1 &   Acc. & AUPRC & AUPRC (rel.) &  Suff. &  Comp. \\\\\",\n",
    "#     r\"\\textbf{Model}           & \\textbf{$w_1$} & \\textbf{Acc. \\%} & \\textbf{AUPRC \\%} & \\textbf{AUPRC rel. \\%} & \\textbf{Suff.} & \\textbf{Comp.} \\\\\"\n",
    "# )\n",
    "print(latex)"
   ]
  },
  {
   "cell_type": "code",
   "execution_count": 15,
   "metadata": {},
   "outputs": [
    {
     "data": {
      "text/html": [
       "<div>\n",
       "<style scoped>\n",
       "    .dataframe tbody tr th:only-of-type {\n",
       "        vertical-align: middle;\n",
       "    }\n",
       "\n",
       "    .dataframe tbody tr th {\n",
       "        vertical-align: top;\n",
       "    }\n",
       "\n",
       "    .dataframe thead th {\n",
       "        text-align: right;\n",
       "    }\n",
       "</style>\n",
       "<table border=\"1\" class=\"dataframe\">\n",
       "  <thead>\n",
       "    <tr style=\"text-align: right;\">\n",
       "      <th></th>\n",
       "      <th>w1</th>\n",
       "      <th>Acc.</th>\n",
       "      <th>AUPRC</th>\n",
       "      <th>AUPRC (rel.)</th>\n",
       "      <th>Suff.</th>\n",
       "      <th>Comp.</th>\n",
       "      <th>Acc. (HateEval)</th>\n",
       "    </tr>\n",
       "    <tr>\n",
       "      <th>Model</th>\n",
       "      <th></th>\n",
       "      <th></th>\n",
       "      <th></th>\n",
       "      <th></th>\n",
       "      <th></th>\n",
       "      <th></th>\n",
       "      <th></th>\n",
       "    </tr>\n",
       "  </thead>\n",
       "  <tbody>\n",
       "    <tr>\n",
       "      <th>hatexplain-lime-distilbert-2</th>\n",
       "      <td>0.03</td>\n",
       "      <td>-3.64</td>\n",
       "      <td>0.97</td>\n",
       "      <td>1.19</td>\n",
       "      <td>0.31</td>\n",
       "      <td>-0.05</td>\n",
       "      <td>1.32</td>\n",
       "    </tr>\n",
       "  </tbody>\n",
       "</table>\n",
       "</div>"
      ],
      "text/plain": [
       "                                w1   Acc. AUPRC AUPRC (rel.) Suff.  Comp.  \\\n",
       "Model                                                                       \n",
       "hatexplain-lime-distilbert-2  0.03  -3.64  0.97         1.19  0.31  -0.05   \n",
       "\n",
       "                             Acc. (HateEval)  \n",
       "Model                                         \n",
       "hatexplain-lime-distilbert-2            1.32  "
      ]
     },
     "execution_count": 15,
     "metadata": {},
     "output_type": "execute_result"
    }
   ],
   "source": [
    "table_all_df"
   ]
  }
 ],
 "metadata": {
  "kernelspec": {
   "display_name": "explainability-experiments-clone",
   "language": "python",
   "name": "python3"
  },
  "language_info": {
   "codemirror_mode": {
    "name": "ipython",
    "version": 3
   },
   "file_extension": ".py",
   "mimetype": "text/x-python",
   "name": "python",
   "nbconvert_exporter": "python",
   "pygments_lexer": "ipython3",
   "version": "3.7.13"
  },
  "orig_nbformat": 4,
  "vscode": {
   "interpreter": {
    "hash": "91f38a7eba530c0d2410741fe2786371fc960c0e41229cff448fdbb4c08e5ebe"
   }
  }
 },
 "nbformat": 4,
 "nbformat_minor": 2
}
