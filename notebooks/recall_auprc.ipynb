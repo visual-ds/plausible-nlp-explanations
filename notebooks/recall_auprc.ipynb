{
 "cells": [
  {
   "attachments": {},
   "cell_type": "markdown",
   "metadata": {},
   "source": [
    "# Recall vs. AUPRC"
   ]
  },
  {
   "cell_type": "code",
   "execution_count": 1,
   "metadata": {},
   "outputs": [],
   "source": [
    "import json\n",
    "import matplotlib.pyplot as plt\n",
    "import numpy as np\n",
    "import pandas as pd\n",
    "import scienceplots\n",
    "import seaborn as sns\n",
    "from pathlib import Path"
   ]
  },
  {
   "cell_type": "code",
   "execution_count": 2,
   "metadata": {},
   "outputs": [],
   "source": [
    "plt.style.use('science')"
   ]
  },
  {
   "cell_type": "code",
   "execution_count": 3,
   "metadata": {},
   "outputs": [],
   "source": [
    "date = \"2023-03-14-22-37-07\"\n",
    "experiment = \"hatexplain-lime-distilbert-2\"\n",
    "\n",
    "here_path = Path().absolute()\n",
    "experiments_path = here_path.parent / \"data\" / \"experiments\"\n",
    "experiment_path = experiments_path / date / experiment\n",
    "results_path = experiment_path / \"results.jsonl\""
   ]
  },
  {
   "cell_type": "code",
   "execution_count": 4,
   "metadata": {},
   "outputs": [],
   "source": [
    "results = []\n",
    "with open(results_path, 'r') as f:\n",
    "    for line in f:\n",
    "        results.append(json.loads(line))"
   ]
  },
  {
   "cell_type": "code",
   "execution_count": 5,
   "metadata": {},
   "outputs": [],
   "source": [
    "all_results = sorted(results, key=lambda x: x['weight'])\n",
    "weights = [result['weight'] for result in results]"
   ]
  },
  {
   "cell_type": "code",
   "execution_count": 6,
   "metadata": {},
   "outputs": [],
   "source": [
    "weights = weights[1:]\n",
    "all_results = all_results[1:]"
   ]
  },
  {
   "cell_type": "code",
   "execution_count": 7,
   "metadata": {},
   "outputs": [],
   "source": [
    "def filter_results(results):\n",
    "    \"\"\"Filter the results.\n",
    "\n",
    "    Remove the None and NaN values from the results.\n",
    "\n",
    "    Args:\n",
    "        results (list of float): Results to filter.\n",
    "    \n",
    "    Returns:\n",
    "        list of float: Filtered results.\n",
    "    \"\"\"\n",
    "    return [result for result in results \\\n",
    "        if result is not None and not np.isnan(result)]"
   ]
  },
  {
   "cell_type": "code",
   "execution_count": 8,
   "metadata": {},
   "outputs": [
    {
     "data": {
      "image/png": "[encoded data removed]",
      "text/plain": [
       "<Figure size 288x144 with 2 Axes>"
      ]
     },
     "metadata": {
      "needs_background": "light"
     },
     "output_type": "display_data"
    }
   ],
   "source": [
    "fig, axes = plt.subplots(1, 2, sharey=True, figsize=(4, 2))\n",
    "\n",
    "x = []\n",
    "y = []\n",
    "for results in all_results:\n",
    "    x.append(results['performance']['recall_normal'])\n",
    "    y.append(\n",
    "        np.mean(\n",
    "            filter_results(results['explainability']['alternative_auprc'])\n",
    "        )\n",
    "    )\n",
    "sns.scatterplot(\n",
    "    x=\"normal\",\n",
    "    y=\"AUPRC\",\n",
    "    data=pd.DataFrame({\n",
    "        \"normal\": x,\n",
    "        \"AUPRC\": y,\n",
    "    }),\n",
    "    hue=weights,\n",
    "    ax=axes[0],\n",
    ")\n",
    "\n",
    "x = []\n",
    "y = []\n",
    "for results in all_results:\n",
    "    x.append(results['performance']['recall_hatespeech'])\n",
    "    y.append(\n",
    "        np.mean(\n",
    "            filter_results(results['explainability']['alternative_auprc'])\n",
    "        )\n",
    "    )\n",
    "sns.scatterplot(\n",
    "    x=\"hatespeech\",\n",
    "    y=\"AUPRC\",\n",
    "    data=pd.DataFrame({\n",
    "        \"hatespeech\": x,\n",
    "        \"AUPRC\": y,\n",
    "    }),\n",
    "    hue=weights,\n",
    "    ax=axes[1],\n",
    ")\n",
    "\n",
    "axes[0].get_legend().remove()\n",
    "axes[1].get_legend().remove()\n",
    "\n",
    "# norm = plt.Normalize(0, max(weights))\n",
    "# cmap = sns.cubehelix_palette(as_cmap=True)\n",
    "# sm = plt.cm.ScalarMappable(cmap=cmap, norm=norm)\n",
    "# fig.colorbar(\n",
    "#     sm,\n",
    "#     orientation=\"vertical\",\n",
    "#     label=\"Cross-entropy weight ($w_1$)\",\n",
    "# )\n",
    "\n",
    "fig.tight_layout(rect=(0, 0, 0.9, 1))\n",
    "fig.supxlabel(\"Recall\")\n",
    "# fig.text(0.52, -0.15, \"Recall\", ha='center')\n",
    "plt.savefig(\"recall_auprc.pdf\", dpi=300, bbox_inches=\"tight\")"
   ]
  }
 ],
 "metadata": {
  "kernelspec": {
   "display_name": "explainability-experiments-clone",
   "language": "python",
   "name": "python3"
  },
  "language_info": {
   "codemirror_mode": {
    "name": "ipython",
    "version": 3
   },
   "file_extension": ".py",
   "mimetype": "text/x-python",
   "name": "python",
   "nbconvert_exporter": "python",
   "pygments_lexer": "ipython3",
   "version": "3.7.13"
  },
  "orig_nbformat": 4,
  "vscode": {
   "interpreter": {
    "hash": "91f38a7eba530c0d2410741fe2786371fc960c0e41229cff448fdbb4c08e5ebe"
   }
  }
 },
 "nbformat": 4,
 "nbformat_minor": 2
}
