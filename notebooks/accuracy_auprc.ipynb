{
 "cells": [
  {
   "attachments": {},
   "cell_type": "markdown",
   "metadata": {},
   "source": [
    "# Accuracy vs. AUPRC"
   ]
  },
  {
   "cell_type": "code",
   "execution_count": 1,
   "metadata": {},
   "outputs": [],
   "source": [
    "import json\n",
    "import matplotlib.pyplot as plt\n",
    "import numpy as np\n",
    "import pandas as pd\n",
    "import scienceplots\n",
    "import seaborn as sns\n",
    "from pathlib import Path"
   ]
  },
  {
   "cell_type": "code",
   "execution_count": 2,
   "metadata": {},
   "outputs": [],
   "source": [
    "plt.style.use('science')"
   ]
  },
  {
   "cell_type": "code",
   "execution_count": 3,
   "metadata": {},
   "outputs": [],
   "source": [
    "date = \"2023-03-14-22-37-07\"\n",
    "experiment = \"hatexplain-lime-distilbert-2\"\n",
    "\n",
    "here_path = Path().absolute()\n",
    "experiments_path = here_path.parent / \"data\" / \"experiments\"\n",
    "experiment_path = experiments_path / date / experiment\n",
    "losses_path = experiment_path / \"losses.jsonl\"\n",
    "results_path = experiment_path / \"results.jsonl\""
   ]
  },
  {
   "cell_type": "code",
   "execution_count": 4,
   "metadata": {},
   "outputs": [],
   "source": [
    "results = []\n",
    "with open(results_path, 'r') as f:\n",
    "    for line in f:\n",
    "        results.append(json.loads(line))\n",
    "\n",
    "losses = []\n",
    "with open(losses_path, 'r') as f:\n",
    "    for line in f:\n",
    "        losses.append(json.loads(line))"
   ]
  },
  {
   "cell_type": "code",
   "execution_count": 5,
   "metadata": {},
   "outputs": [],
   "source": [
    "all_results = sorted(results, key=lambda x: x['weight'])\n",
    "weights = [result['weight'] for result in results]\n",
    "\n",
    "losses = sorted(losses, key=lambda x: x['weight'])\n",
    "weights = [loss['weight'] for loss in losses]\n",
    "losses = [[loss['cross_entropy_loss'], loss['contrastive_loss']] for loss in losses]\n",
    "losses = np.array(losses)\n",
    "losses /= 15382  # Divide by number of HateXplain training samples to convert\n",
    "                 # from sum to average"
   ]
  },
  {
   "cell_type": "code",
   "execution_count": 6,
   "metadata": {},
   "outputs": [],
   "source": [
    "def filter_results(results):\n",
    "    \"\"\"Filter the results.\n",
    "\n",
    "    Remove the None and NaN values from the results.\n",
    "\n",
    "    Args:\n",
    "        results (list of float): Results to filter.\n",
    "    \n",
    "    Returns:\n",
    "        list of float: Filtered results.\n",
    "    \"\"\"\n",
    "    return [result for result in results \\\n",
    "        if result is not None and not np.isnan(result)]"
   ]
  },
  {
   "cell_type": "code",
   "execution_count": 7,
   "metadata": {},
   "outputs": [
    {
     "data": {
      "image/png": "[encoded data removed]",
      "text/plain": [
       "<Figure size 252x189 with 3 Axes>"
      ]
     },
     "metadata": {
      "needs_background": "light"
     },
     "output_type": "display_data"
    }
   ],
   "source": [
    "w1 = weights\n",
    "performance_metric = \"accuracy\"\n",
    "explainability_metric = \"alternative_auprc\"\n",
    "x = []\n",
    "y = []\n",
    "for results in all_results:\n",
    "    x.append(results['performance'][performance_metric])\n",
    "    y.append(\n",
    "        np.mean(\n",
    "            filter_results(results['explainability'][explainability_metric])\n",
    "        )\n",
    "    )\n",
    "y = [value*100 for value in y]\n",
    "\n",
    "fig, axes = plt.subplots(1, 2)\n",
    "\n",
    "sns.scatterplot(\n",
    "    x=\"Cross-entropy loss\",\n",
    "    y=\"Contrastive rationale loss\",\n",
    "    data=pd.DataFrame(\n",
    "        losses,\n",
    "        columns=[\"Cross-entropy loss\", \"Contrastive rationale loss\"]\n",
    "    ),\n",
    "    hue=w1,\n",
    "    ax=axes[0],\n",
    ")\n",
    "axes[0].get_legend().remove()\n",
    "axes[0].ticklabel_format(style='sci', scilimits=(0,0), axis='y')\n",
    "axes[0].set_title(\"(a)\")\n",
    "\n",
    "sns.scatterplot(\n",
    "    x=\"Accuracy\",\n",
    "    y=\"AUPRC (\\%)\",\n",
    "    data=pd.DataFrame({\n",
    "        \"Accuracy\": x,\n",
    "        \"AUPRC (\\%)\": y,\n",
    "    }),\n",
    "    hue=w1,\n",
    "    ax=axes[1],\n",
    ")\n",
    "axes[1].get_legend().remove()\n",
    "axes[1].set_title(\"(b)\")\n",
    "\n",
    "norm = plt.Normalize(0, max(w1))\n",
    "cmap = sns.cubehelix_palette(as_cmap=True)\n",
    "sm = plt.cm.ScalarMappable(cmap=cmap, norm=norm)\n",
    "fig.tight_layout()\n",
    "cbar = fig.colorbar(\n",
    "    sm,\n",
    "    orientation=\"horizontal\",\n",
    "    label=\"Cross-entropy weight ($w_1$)\",\n",
    "    ax=axes.ravel().tolist(),\n",
    ")\n",
    "# Get colorbar down a little\n",
    "cbar.ax.set_position([cbar.ax.get_position().x0, cbar.ax.get_position().y0 - 0.05, cbar.ax.get_position().width, cbar.ax.get_position().height])\n",
    "\n",
    "plt.savefig(\"accuracy_auprc_all.pdf\", dpi=300, bbox_inches=\"tight\")"
   ]
  },
  {
   "cell_type": "code",
   "execution_count": 8,
   "metadata": {},
   "outputs": [],
   "source": [
    "weights = weights[1:]\n",
    "all_results = all_results[1:]\n",
    "losses = losses[1:]"
   ]
  },
  {
   "cell_type": "code",
   "execution_count": 9,
   "metadata": {},
   "outputs": [
    {
     "data": {
      "image/png": "[encoded data removed]",
      "text/plain": [
       "<Figure size 252x189 with 3 Axes>"
      ]
     },
     "metadata": {
      "needs_background": "light"
     },
     "output_type": "display_data"
    }
   ],
   "source": [
    "w1 = weights\n",
    "performance_metric = \"accuracy\"\n",
    "explainability_metric = \"alternative_auprc\"\n",
    "x = []\n",
    "y = []\n",
    "for results in all_results:\n",
    "    x.append(results['performance'][performance_metric])\n",
    "    y.append(\n",
    "        np.mean(\n",
    "            filter_results(results['explainability'][explainability_metric])\n",
    "        )\n",
    "    )\n",
    "y = [value*100 for value in y]\n",
    "\n",
    "fig, axes = plt.subplots(1, 2)\n",
    "\n",
    "sns.scatterplot(\n",
    "    x=\"Cross-entropy loss\",\n",
    "    y=\"Contrastive rationale loss\",\n",
    "    data=pd.DataFrame(\n",
    "        losses,\n",
    "        columns=[\"Cross-entropy loss\", \"Contrastive rationale loss\"]\n",
    "    ),\n",
    "    hue=w1,\n",
    "    ax=axes[0],\n",
    ")\n",
    "axes[0].get_legend().remove()\n",
    "axes[0].ticklabel_format(style='sci', scilimits=(0,0), axis='y')\n",
    "axes[0].set_title(\"(a)\")\n",
    "\n",
    "sns.scatterplot(\n",
    "    x=\"Accuracy\",\n",
    "    y=\"AUPRC (\\%)\",\n",
    "    data=pd.DataFrame({\n",
    "        \"Accuracy\": x,\n",
    "        \"AUPRC (\\%)\": y,\n",
    "    }),\n",
    "    hue=w1,\n",
    "    ax=axes[1],\n",
    ")\n",
    "axes[1].get_legend().remove()\n",
    "axes[1].set_title(\"(b)\")\n",
    "\n",
    "norm = plt.Normalize(0, max(w1))\n",
    "cmap = sns.cubehelix_palette(as_cmap=True)\n",
    "sm = plt.cm.ScalarMappable(cmap=cmap, norm=norm)\n",
    "fig.tight_layout()\n",
    "cbar = fig.colorbar(\n",
    "    sm,\n",
    "    orientation=\"horizontal\",\n",
    "    label=\"Cross-entropy weight ($w_1$)\",\n",
    "    ax=axes.ravel().tolist(),\n",
    ")\n",
    "# Get colorbar down a little\n",
    "cbar.ax.set_position([cbar.ax.get_position().x0, cbar.ax.get_position().y0 - 0.05, cbar.ax.get_position().width, cbar.ax.get_position().height])\n",
    "\n",
    "plt.savefig(\"accuracy_auprc.pdf\", dpi=300, bbox_inches=\"tight\")"
   ]
  },
  {
   "cell_type": "code",
   "execution_count": 10,
   "metadata": {},
   "outputs": [],
   "source": [
    "alternative_auprcs = []\n",
    "accuracies = []\n",
    "for results in all_results:\n",
    "    alternative_auprcs.append(\n",
    "        np.mean(\n",
    "            filter_results(results['explainability'][explainability_metric])\n",
    "        )\n",
    "    )\n",
    "    accuracies.append(results['performance'][performance_metric])"
   ]
  },
  {
   "cell_type": "code",
   "execution_count": 11,
   "metadata": {},
   "outputs": [
    {
     "name": "stdout",
     "output_type": "stream",
     "text": [
      "0.821847995830308 0.8107765101245601\n",
      "0.011071485705747897\n",
      "1.0136554100513433\n"
     ]
    }
   ],
   "source": [
    "print(max(alternative_auprcs), alternative_auprcs[-1])\n",
    "print(max(alternative_auprcs) - alternative_auprcs[-1])\n",
    "print(max(alternative_auprcs)/alternative_auprcs[-1])"
   ]
  },
  {
   "cell_type": "code",
   "execution_count": 12,
   "metadata": {},
   "outputs": [
    {
     "name": "stdout",
     "output_type": "stream",
     "text": [
      "0.8396363636363636 0.8476363636363636\n",
      "-0.008000000000000007\n",
      "0.9905619905619906\n"
     ]
    }
   ],
   "source": [
    "print(accuracies[np.argmax(alternative_auprcs)], accuracies[-1])\n",
    "print(accuracies[np.argmax(alternative_auprcs)] - accuracies[-1])\n",
    "print(accuracies[np.argmax(alternative_auprcs)]/accuracies[-1])"
   ]
  }
 ],
 "metadata": {
  "kernelspec": {
   "display_name": "explainability-experiments-clone",
   "language": "python",
   "name": "python3"
  },
  "language_info": {
   "codemirror_mode": {
    "name": "ipython",
    "version": 3
   },
   "file_extension": ".py",
   "mimetype": "text/x-python",
   "name": "python",
   "nbconvert_exporter": "python",
   "pygments_lexer": "ipython3",
   "version": "3.7.13"
  },
  "orig_nbformat": 4,
  "vscode": {
   "interpreter": {
    "hash": "91f38a7eba530c0d2410741fe2786371fc960c0e41229cff448fdbb4c08e5ebe"
   }
  }
 },
 "nbformat": 4,
 "nbformat_minor": 2
}
