{
 "cells": [
  {
   "attachments": {},
   "cell_type": "markdown",
   "metadata": {},
   "source": [
    "# Test performance"
   ]
  },
  {
   "cell_type": "code",
   "execution_count": 1,
   "metadata": {},
   "outputs": [],
   "source": [
    "import json\n",
    "from pathlib import Path"
   ]
  },
  {
   "cell_type": "code",
   "execution_count": 2,
   "metadata": {},
   "outputs": [],
   "source": [
    "date = \"2023-03-14-22-37-07\"\n",
    "experiment = \"hatexplain-lime-distilbert-2\"\n",
    "\n",
    "here_path = Path().absolute()\n",
    "experiments_path = here_path.parent / \"data\" / \"experiments\"\n",
    "experiment_path = experiments_path / date / experiment\n",
    "results_path = experiment_path / \"results.jsonl\""
   ]
  },
  {
   "cell_type": "code",
   "execution_count": 3,
   "metadata": {},
   "outputs": [],
   "source": [
    "results = []\n",
    "with open(results_path, 'r') as f:\n",
    "    for line in f:\n",
    "        results.append(json.loads(line))"
   ]
  },
  {
   "cell_type": "code",
   "execution_count": 4,
   "metadata": {},
   "outputs": [
    {
     "name": "stdout",
     "output_type": "stream",
     "text": [
      "{'recall_hatespeech': 0.8028643639427128, 'recall_normal': 0.8816378758797185, 'accuracy': 0.8476363636363636}\n"
     ]
    }
   ],
   "source": [
    "for result in results:\n",
    "    if result['weight'] == 1:\n",
    "        print(result['performance'])"
   ]
  }
 ],
 "metadata": {
  "kernelspec": {
   "display_name": "explainability-experiments",
   "language": "python",
   "name": "python3"
  },
  "language_info": {
   "codemirror_mode": {
    "name": "ipython",
    "version": 3
   },
   "file_extension": ".py",
   "mimetype": "text/x-python",
   "name": "python",
   "nbconvert_exporter": "python",
   "pygments_lexer": "ipython3",
   "version": "3.7.13"
  },
  "orig_nbformat": 4,
  "vscode": {
   "interpreter": {
    "hash": "85e7556549ca1239f0a08738b37b6a3ab3fc460b388fc68d1699cf1fd71893e4"
   }
  }
 },
 "nbformat": 4,
 "nbformat_minor": 2
}
