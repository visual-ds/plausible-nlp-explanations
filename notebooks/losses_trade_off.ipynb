{
 "cells": [
  {
   "attachments": {},
   "cell_type": "markdown",
   "metadata": {},
   "source": [
    "# Losses trade-off"
   ]
  },
  {
   "cell_type": "code",
   "execution_count": 1,
   "metadata": {},
   "outputs": [],
   "source": [
    "import json\n",
    "import matplotlib.pyplot as plt\n",
    "import numpy as np\n",
    "import pandas as pd\n",
    "import scienceplots\n",
    "import seaborn as sns\n",
    "from pathlib import Path"
   ]
  },
  {
   "cell_type": "code",
   "execution_count": 2,
   "metadata": {},
   "outputs": [],
   "source": [
    "plt.style.use('science')"
   ]
  },
  {
   "cell_type": "code",
   "execution_count": 3,
   "metadata": {},
   "outputs": [],
   "source": [
    "date = \"2023-03-14-22-37-07\"\n",
    "experiment = \"hatexplain-lime-distilbert-2\"\n",
    "\n",
    "here_path = Path().absolute()\n",
    "experiments_path = here_path.parent / \"data\" / \"experiments\"\n",
    "experiment_path = experiments_path / date / experiment\n",
    "losses_path = experiment_path / \"losses.jsonl\""
   ]
  },
  {
   "cell_type": "code",
   "execution_count": 4,
   "metadata": {},
   "outputs": [],
   "source": [
    "losses = []\n",
    "with open(losses_path, 'r') as f:\n",
    "    for line in f:\n",
    "        losses.append(json.loads(line))"
   ]
  },
  {
   "cell_type": "code",
   "execution_count": 5,
   "metadata": {},
   "outputs": [],
   "source": [
    "losses = sorted(losses, key=lambda x: x['weight'])\n",
    "weights = [loss['weight'] for loss in losses]\n",
    "losses = [[loss['cross_entropy_loss'], loss['contrastive_loss']] for loss in losses]\n",
    "losses = np.array(losses)"
   ]
  },
  {
   "cell_type": "code",
   "execution_count": 6,
   "metadata": {},
   "outputs": [],
   "source": [
    "weights = weights[1:]\n",
    "losses = losses[1:]"
   ]
  },
  {
   "cell_type": "code",
   "execution_count": 7,
   "metadata": {},
   "outputs": [
    {
     "data": {
      "image/png": "[encoded data removed]",
      "text/plain": [
       "<Figure size 252x189 with 2 Axes>"
      ]
     },
     "metadata": {
      "needs_background": "light"
     },
     "output_type": "display_data"
    }
   ],
   "source": [
    "w1 = weights\n",
    "fig, ax = plt.subplots()\n",
    "sns.scatterplot(\n",
    "    x=\"Cross-entropy loss\",\n",
    "    y=\"Contrastive rationale loss\",\n",
    "    data=pd.DataFrame(\n",
    "        losses,\n",
    "        columns=[\"Cross-entropy loss\", \"Contrastive rationale loss\"]\n",
    "    ),\n",
    "    hue=w1,\n",
    "    ax=ax,\n",
    ")\n",
    "# plt.title(\"Trade-off between losses\")\n",
    "ax.get_legend().remove()\n",
    "norm = plt.Normalize(0, max(w1))\n",
    "cmap = sns.cubehelix_palette(as_cmap=True)\n",
    "sm = plt.cm.ScalarMappable(cmap=cmap, norm=norm)\n",
    "fig.colorbar(\n",
    "    sm,\n",
    "    orientation=\"vertical\",\n",
    "    label=\"Cross-entropy weight ($w_1$)\",\n",
    ")\n",
    "plt.savefig(\"losses_trade_off.pdf\", dpi=300, bbox_inches=\"tight\")"
   ]
  }
 ],
 "metadata": {
  "kernelspec": {
   "display_name": "explainability-experiments-clone",
   "language": "python",
   "name": "python3"
  },
  "language_info": {
   "codemirror_mode": {
    "name": "ipython",
    "version": 3
   },
   "file_extension": ".py",
   "mimetype": "text/x-python",
   "name": "python",
   "nbconvert_exporter": "python",
   "pygments_lexer": "ipython3",
   "version": "3.7.13"
  },
  "orig_nbformat": 4,
  "vscode": {
   "interpreter": {
    "hash": "91f38a7eba530c0d2410741fe2786371fc960c0e41229cff448fdbb4c08e5ebe"
   }
  }
 },
 "nbformat": 4,
 "nbformat_minor": 2
}
