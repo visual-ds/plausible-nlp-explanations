{
 "cells": [
  {
   "attachments": {},
   "cell_type": "markdown",
   "metadata": {},
   "source": [
    "# Graphics and tables"
   ]
  },
  {
   "attachments": {},
   "cell_type": "markdown",
   "metadata": {},
   "source": [
    "Graphics and tables for the paper."
   ]
  },
  {
   "attachments": {},
   "cell_type": "markdown",
   "metadata": {},
   "source": [
    "## Setup"
   ]
  },
  {
   "cell_type": "code",
   "execution_count": 1,
   "metadata": {},
   "outputs": [],
   "source": [
    "import json\n",
    "import matplotlib.pyplot as plt\n",
    "import numpy as np\n",
    "import pandas as pd\n",
    "import scienceplots\n",
    "import seaborn as sns\n",
    "from pathlib import Path"
   ]
  },
  {
   "cell_type": "code",
   "execution_count": 2,
   "metadata": {},
   "outputs": [],
   "source": [
    "plt.style.use('science')"
   ]
  },
  {
   "attachments": {},
   "cell_type": "markdown",
   "metadata": {},
   "source": [
    "## Experiments"
   ]
  },
  {
   "cell_type": "code",
   "execution_count": 3,
   "metadata": {},
   "outputs": [
    {
     "data": {
      "text/plain": [
       "{'2023-05-16-23-39-44', '2023-05-18-18-25-50'}"
      ]
     },
     "execution_count": 3,
     "metadata": {},
     "output_type": "execute_result"
    }
   ],
   "source": [
    "# Copied and pasted from Google Sheets\n",
    "all_experiments = \"\"\"2023-05-16-23-39-44\n",
    "\n",
    "\n",
    "\n",
    "\n",
    "\n",
    "2023-05-16-23-39-44\n",
    "\n",
    "\n",
    "\n",
    "\n",
    "\n",
    "\n",
    "\n",
    "2023-05-18-18-25-50\n",
    "\n",
    "\n",
    "\n",
    "\n",
    "\n",
    "2023-05-18-18-25-50\"\"\"\n",
    "all_experiments = all_experiments.split(\"\\n\")\n",
    "all_experiments = [x for x in all_experiments if x != \"\"]\n",
    "all_experiments = set(all_experiments)\n",
    "all_experiments"
   ]
  },
  {
   "attachments": {},
   "cell_type": "markdown",
   "metadata": {},
   "source": [
    "## Data loading"
   ]
  },
  {
   "cell_type": "code",
   "execution_count": 4,
   "metadata": {},
   "outputs": [
    {
     "name": "stdout",
     "output_type": "stream",
     "text": [
      "hatexplain_all-shap-tf_idf-2\n",
      "hatexplain_all-lime-tf_idf-2\n",
      "tweet_sentiment_extraction_all-shap-distilbert-2\n",
      "tweet_sentiment_extraction_all-lime-distilbert-2\n"
     ]
    }
   ],
   "source": [
    "all_results = dict()\n",
    "experiments = []\n",
    "\n",
    "for item in Path(\"..\").glob(\"data/experiments/*\"):\n",
    "    if item.is_dir() and item.name in all_experiments:\n",
    "        for experiment in item.glob(\"*\"):\n",
    "            if experiment.is_dir():\n",
    "                if (experiment / \"results.jsonl\").exists():\n",
    "                    experiment_name = experiment.name\n",
    "                    print(experiment_name)\n",
    "                    experiments.append(experiment_name)\n",
    "                    all_results[experiment_name] = []\n",
    "                    with open(experiment / \"results.jsonl\", 'r') as f:\n",
    "                        for line in f:\n",
    "                            all_results[experiment_name].append(json.loads(line))"
   ]
  },
  {
   "attachments": {},
   "cell_type": "markdown",
   "metadata": {},
   "source": [
    "## Data checking"
   ]
  },
  {
   "cell_type": "code",
   "execution_count": 5,
   "metadata": {},
   "outputs": [],
   "source": [
    "# Assert experiments are unique\n",
    "assert len(experiments) == len(set(experiments))\n",
    "\n",
    "# Assert we have all experiments\n",
    "ground_truth_experiments = set()\n",
    "for explainer in [\"lime\", \"shap\"]:\n",
    "    ground_truth_experiments.add(f\"hatexplain_all-{explainer}-tf_idf-2\")\n",
    "    ground_truth_experiments.add(f\"tweet_sentiment_extraction_all-{explainer}-distilbert-2\")\n",
    "assert set(experiments) == ground_truth_experiments"
   ]
  },
  {
   "attachments": {},
   "cell_type": "markdown",
   "metadata": {},
   "source": [
    "## Plot graphics"
   ]
  },
  {
   "cell_type": "code",
   "execution_count": 6,
   "metadata": {},
   "outputs": [],
   "source": [
    "def filter_results(results):\n",
    "    \"\"\"Filter the results.\n",
    "\n",
    "    Remove the None and NaN values from the results.\n",
    "\n",
    "    Args:\n",
    "        results (list of float): Results to filter.\n",
    "    \n",
    "    Returns:\n",
    "        list of float: Filtered results.\n",
    "    \"\"\"\n",
    "    return [result for result in results \\\n",
    "        if result is not None and not np.isnan(result)]"
   ]
  },
  {
   "cell_type": "code",
   "execution_count": 7,
   "metadata": {},
   "outputs": [
    {
     "name": "stdout",
     "output_type": "stream",
     "text": [
      "    \"hatexplain_all-lime-tf_idf-2\": 14,\n",
      "    \"tweet_sentiment_extraction_all-lime-distilbert-2\": 14,\n",
      "    \"hatexplain_all-shap-tf_idf-2\": 14,\n",
      "    \"tweet_sentiment_extraction_all-shap-distilbert-2\": 14,\n"
     ]
    }
   ],
   "source": [
    "for explainer in [\"lime\", \"shap\"]:\n",
    "    print(f\"    \\\"hatexplain_all-{explainer}-tf_idf-2\\\": 14,\")\n",
    "    print(f\"    \\\"tweet_sentiment_extraction_all-{explainer}-distilbert-2\\\": 14,\")"
   ]
  },
  {
   "cell_type": "code",
   "execution_count": 8,
   "metadata": {},
   "outputs": [],
   "source": [
    "# Manually copied and pasted from the above print statement\n",
    "# Manually set the numbers\n",
    "good_result_map = {\n",
    "    \"hatexplain_all-lime-tf_idf-2\": 9,\n",
    "    \"tweet_sentiment_extraction_all-lime-distilbert-2\": 11,\n",
    "    \"hatexplain_all-shap-tf_idf-2\": 9,\n",
    "    \"tweet_sentiment_extraction_all-shap-distilbert-2\": 11,\n",
    "}"
   ]
  },
  {
   "cell_type": "code",
   "execution_count": 9,
   "metadata": {},
   "outputs": [],
   "source": [
    "def plot_graphic(name, results, ax):\n",
    "    results = sorted(results, key=lambda x: x['weight'])\n",
    "    results = results[1:]  # Remove the first result (cross-entropy weight = 0)\n",
    "    weights = [result['weight'] for result in results]\n",
    "\n",
    "    performance_metric = \"accuracy\"\n",
    "    explainability_metric = \"alternative_auprc\"\n",
    "    x = []\n",
    "    y = []\n",
    "    for result in results:\n",
    "        x.append(result['performance'][performance_metric])\n",
    "        y.append(\n",
    "            np.mean(\n",
    "                filter_results(result['explainability'][explainability_metric])\n",
    "            )\n",
    "        )\n",
    "\n",
    "    sns.scatterplot(\n",
    "        x=\"Accuracy\",\n",
    "        y=\"AUPRC\",\n",
    "        data=pd.DataFrame({\n",
    "            \"Accuracy\": x,\n",
    "            \"AUPRC\": y,\n",
    "        }),\n",
    "        hue=weights,\n",
    "        ax=ax,\n",
    "    )\n",
    "\n",
    "    ax.get_legend().remove()\n",
    "    ax.set_xlabel(\"\")\n",
    "    ax.set_ylabel(\"\")\n",
    "\n",
    "    good_result_index = good_result_map[name]\n",
    "    x = x[good_result_index]\n",
    "    y = y[good_result_index]\n",
    "    ax.scatter(x, y)\n",
    "    \n",
    "    # norm = plt.Normalize(0, max(weights))\n",
    "    # cmap = sns.cubehelix_palette(as_cmap=True)\n",
    "    # sm = plt.cm.ScalarMappable(cmap=cmap, norm=norm)\n",
    "    # fig.colorbar(\n",
    "    #     sm,\n",
    "    #     orientation=\"vertical\",\n",
    "    #     label=\"Cross-entropy weight ($w_1$)\",\n",
    "    # )\n",
    "    # plt.savefig(\"accuracy_auprc.pdf\", dpi=300, bbox_inches=\"tight\")    "
   ]
  },
  {
   "cell_type": "code",
   "execution_count": 10,
   "metadata": {},
   "outputs": [],
   "source": [
    "def get_table_line(experiment_name, results):\n",
    "    results = sorted(results, key=lambda x: x['weight'])\n",
    "    results = results[1:]  # Remove the first result (cross-entropy weight = 0)\n",
    "    bad_result = results[-1]\n",
    "    good_result = results[good_result_map[experiment_name]]\n",
    "    # x = good_result['performance']['accuracy']\n",
    "    # y = np.mean(filter_results(good_result['explainability']['alternative_auprc']))\n",
    "    weight = good_result['weight']\n",
    "\n",
    "    good_accuracy = good_result['performance']['accuracy']\n",
    "    bad_accuracy = bad_result['performance']['accuracy']\n",
    "    accuracy_gain = (good_accuracy - bad_accuracy) * 100\n",
    "\n",
    "    good_auprc = np.mean(filter_results(good_result['explainability']['alternative_auprc']))\n",
    "    bad_auprc = np.mean(filter_results(bad_result['explainability']['alternative_auprc']))\n",
    "    auprc_gain = (good_auprc - bad_auprc) * 100\n",
    "    auprc_gain_relative = (good_auprc - bad_auprc) / bad_auprc * 100\n",
    "\n",
    "    good_sufficiency = np.mean(filter_results(good_result['explainability']['sufficiency_aopc']))\n",
    "    bad_sufficiency = np.mean(filter_results(bad_result['explainability']['sufficiency_aopc']))\n",
    "    # sufficiency_gain = (good_sufficiency - bad_sufficiency) * 100\n",
    "\n",
    "    good_random_sufficiency = np.mean(filter_results(good_result['explainability']['random_sufficiency_aopc']))\n",
    "    bad_random_sufficiency = np.mean(filter_results(bad_result['explainability']['random_sufficiency_aopc']))\n",
    "    # random_sufficiency_gain = (good_random_sufficiency - bad_random_sufficiency) * 100\n",
    "\n",
    "    delta_good_sufficiency = -good_sufficiency\n",
    "    delta_bad_sufficiency = -bad_sufficiency\n",
    "    sufficiency_gain = (delta_good_sufficiency - delta_bad_sufficiency)\n",
    "\n",
    "    good_comprehensiveness = np.mean(filter_results(good_result['explainability']['comprehensiveness_aopc']))\n",
    "    bad_comprehensiveness = np.mean(filter_results(bad_result['explainability']['comprehensiveness_aopc']))\n",
    "    # comprehensiveness_gain = (good_comprehensiveness - bad_comprehensiveness) * 100\n",
    "\n",
    "    good_random_comprehensiveness = np.mean(filter_results(good_result['explainability']['random_comprehensiveness_aopc']))\n",
    "    bad_random_comprehensiveness = np.mean(filter_results(bad_result['explainability']['random_comprehensiveness_aopc']))\n",
    "    # random_comprehensiveness_gain = (good_random_comprehensiveness - bad_random_comprehensiveness) * 100\n",
    "\n",
    "    delta_good_comprehensiveness = good_comprehensiveness #  - good_random_comprehensiveness\n",
    "    delta_bad_comprehensiveness = bad_comprehensiveness #  - bad_random_comprehensiveness\n",
    "    comprehensiveness_gain = (delta_good_comprehensiveness - delta_bad_comprehensiveness)\n",
    "    \n",
    "    return [experiment_name, weight, accuracy_gain, auprc_gain, auprc_gain_relative, sufficiency_gain, comprehensiveness_gain]"
   ]
  },
  {
   "cell_type": "code",
   "execution_count": 11,
   "metadata": {},
   "outputs": [
    {
     "data": {
      "image/png": "[encoded data removed]",
      "text/plain": [
       "<Figure size 360x432 with 4 Axes>"
      ]
     },
     "metadata": {
      "needs_background": "light"
     },
     "output_type": "display_data"
    }
   ],
   "source": [
    "table_all = []\n",
    "fig = plt.figure(figsize=(5, 6))\n",
    "\n",
    "explainers = [\"lime\", \"shap\"]\n",
    "grid = np.array([\n",
    "    [\n",
    "        f\"hatexplain_all-{explainer}-tf_idf-2\",\n",
    "        f\"tweet_sentiment_extraction_all-{explainer}-distilbert-2\",\n",
    "    ] for explainer in explainers\n",
    "])\n",
    "axes = fig.subplot_mosaic(grid)\n",
    "\n",
    "for key in axes.keys():\n",
    "    plot_graphic(key, all_results[key], axes[key])\n",
    "    line = get_table_line(key, all_results[key])\n",
    "    table_all.append(line)\n",
    "\n",
    "for key in grid[:, 0]:\n",
    "    axes[key].set_ylabel({\n",
    "        \"lime\": \"LIME\",\n",
    "        \"shap\": \"SHAP\",\n",
    "    }[key.split(\"-\")[1]])\n",
    "\n",
    "for key in grid[0]:\n",
    "    axes[key].set_xlabel({\n",
    "        \"hatexplain_all\": \"TF-IDF \\& HateXplain\",\n",
    "        \"tweet_sentiment_extraction_all\": \"DistilBERT \\& TSE\",\n",
    "    }[key.split(\"-\")[0]])\n",
    "    axes[key].xaxis.set_label_position('top')\n",
    "\n",
    "plt.subplots_adjust(wspace=0.3)\n",
    "plt.savefig(\n",
    "    f\"three_classes_graphic.pdf\",\n",
    "    dpi=300,\n",
    "    bbox_inches=\"tight\",\n",
    ")\n",
    "plt.show()\n",
    "plt.close()"
   ]
  },
  {
   "cell_type": "code",
   "execution_count": 12,
   "metadata": {},
   "outputs": [
    {
     "name": "stdout",
     "output_type": "stream",
     "text": [
      "\\begin{tabular}{lr|ccccc}\n",
      "\\hline\n",
      "\\textbf{Model}           & \\textbf{$w_1$} & \\textbf{Acc. \\%} & \\textbf{AUPRC \\%} & \\textbf{AUPRC rel. \\%} & \\textbf{Suff.} & \\textbf{Comp.} \\\\\n",
      "\\hline\n",
      "hatexplain\\_all-lime-tf\\_idf &  0.19 &  -3.17 &  7.09 &        12.16 &  -0.00 &  -0.06 \\\\\n",
      "hatexplain\\_all-shap-tf\\_idf &  0.19 &  -3.17 &  6.42 &        11.30 &  -0.00 &  -0.06 \\\\\n",
      "tse\\_all-lime-distilbert    &  0.25 &  -0.37 &  0.88 &         1.09 &   0.01 &  -0.01 \\\\\n",
      "tse\\_all-shap-distilbert    &  0.25 &  -0.37 &  2.58 &         3.26 &  -0.02 &  -0.00 \\\\\n",
      "\\hline\n",
      "\\end{tabular}\n",
      "\n"
     ]
    }
   ],
   "source": [
    "table_all_df = pd.DataFrame(table_all)\n",
    "table_all_df.columns = [\"Model\", \"w1\", \"Acc.\", \"AUPRC\", \"AUPRC (rel.)\", \"Suff.\", \"Comp.\"]\n",
    "table_all_df = table_all_df.set_index(\"Model\", inplace=False)\n",
    "table_all_df.index = [name.replace(\"-2\", \"\").replace(\"tweet_sentiment_extraction\", \"tse\")\n",
    "                      for name in table_all_df.index]\n",
    "indices = []\n",
    "explainers = [\"lime\", \"shap\"]\n",
    "[indices.append(f\"hatexplain_all-{explainer}-tf_idf\") for explainer in explainers]\n",
    "[indices.append(f\"tse_all-{explainer}-distilbert\") for explainer in explainers]\n",
    "table_all_df = table_all_df.loc[indices]\n",
    "\n",
    "table_all_df['w1'] = table_all_df['w1'].apply(\n",
    "    lambda x: f\"{round(x, 2):.2f}\" if round(x, 2) != 0.0 else f\"{round(x, 3):.3f}\"\n",
    ")\n",
    "other_columns = [\"Acc.\", \"AUPRC\", \"AUPRC (rel.)\", \"Suff.\", \"Comp.\"]\n",
    "table_all_df[other_columns] = table_all_df[other_columns].applymap(\n",
    "    lambda x: f\"{round(x, 2):.2f}\"\n",
    ")\n",
    "latex = table_all_df.to_latex()\n",
    "latex = latex.replace(\"{lllllll}\", \"{lr|ccccc}\")\n",
    "latex = latex.replace(r\"\\toprule\", r\"\\hline\")\n",
    "latex = latex.replace(r\"\\midrule\", r\"\\hline\")\n",
    "latex = latex.replace(r\"\\bottomrule\", r\"\\hline\")\n",
    "latex = latex.replace(\n",
    "    r\"{} &    w1 &   Acc. & AUPRC & AUPRC (rel.) &  Suff. &  Comp. \\\\\",\n",
    "    r\"\\textbf{Model}           & \\textbf{$w_1$} & \\textbf{Acc. \\%} & \\textbf{AUPRC \\%} & \\textbf{AUPRC rel. \\%} & \\textbf{Suff.} & \\textbf{Comp.} \\\\\"\n",
    ")\n",
    "print(latex)"
   ]
  }
 ],
 "metadata": {
  "kernelspec": {
   "display_name": "explainability-experiments-clone",
   "language": "python",
   "name": "python3"
  },
  "language_info": {
   "codemirror_mode": {
    "name": "ipython",
    "version": 3
   },
   "file_extension": ".py",
   "mimetype": "text/x-python",
   "name": "python",
   "nbconvert_exporter": "python",
   "pygments_lexer": "ipython3",
   "version": "3.7.13"
  },
  "orig_nbformat": 4,
  "vscode": {
   "interpreter": {
    "hash": "91f38a7eba530c0d2410741fe2786371fc960c0e41229cff448fdbb4c08e5ebe"
   }
  }
 },
 "nbformat": 4,
 "nbformat_minor": 2
}
