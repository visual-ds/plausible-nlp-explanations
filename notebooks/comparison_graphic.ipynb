{
 "cells": [
  {
   "attachments": {},
   "cell_type": "markdown",
   "metadata": {},
   "source": [
    "# Graphics and tables"
   ]
  },
  {
   "attachments": {},
   "cell_type": "markdown",
   "metadata": {},
   "source": [
    "Graphics and tables for the paper."
   ]
  },
  {
   "attachments": {},
   "cell_type": "markdown",
   "metadata": {},
   "source": [
    "## Setup"
   ]
  },
  {
   "cell_type": "code",
   "execution_count": 1,
   "metadata": {},
   "outputs": [],
   "source": [
    "import json\n",
    "import matplotlib.pyplot as plt\n",
    "import numpy as np\n",
    "import pandas as pd\n",
    "import scienceplots\n",
    "import seaborn as sns\n",
    "from pathlib import Path"
   ]
  },
  {
   "cell_type": "code",
   "execution_count": 2,
   "metadata": {},
   "outputs": [],
   "source": [
    "plt.style.use('science')"
   ]
  },
  {
   "attachments": {},
   "cell_type": "markdown",
   "metadata": {},
   "source": [
    "## Experiments"
   ]
  },
  {
   "cell_type": "code",
   "execution_count": 3,
   "metadata": {},
   "outputs": [
    {
     "data": {
      "text/plain": [
       "{'2023-06-15-19-20-21', '2023-06-18-21-50-54'}"
      ]
     },
     "execution_count": 3,
     "metadata": {},
     "output_type": "execute_result"
    }
   ],
   "source": [
    "# Copied and pasted from Google Sheets\n",
    "all_experiments = \"\"\"2023-06-15-19-20-21\n",
    "2023-06-18-21-50-54\"\"\"\n",
    "all_experiments = all_experiments.split(\"\\n\")\n",
    "all_experiments = [x for x in all_experiments if x != \"\"]\n",
    "all_experiments = set(all_experiments)\n",
    "all_experiments"
   ]
  },
  {
   "attachments": {},
   "cell_type": "markdown",
   "metadata": {},
   "source": [
    "## Data loading"
   ]
  },
  {
   "cell_type": "code",
   "execution_count": 4,
   "metadata": {},
   "outputs": [
    {
     "name": "stdout",
     "output_type": "stream",
     "text": [
      "hatexplain_all-lime-bert_128_fine_tuned-2\n",
      "hatexplain_all-lime-bert_attention-2\n"
     ]
    }
   ],
   "source": [
    "all_results = dict()\n",
    "experiments = []\n",
    "\n",
    "for item in Path(\"..\").glob(\"data/experiments/*\"):\n",
    "    if item.is_dir() and item.name in all_experiments:\n",
    "        for experiment in item.glob(\"*\"):\n",
    "            if experiment.is_dir():\n",
    "                if (experiment / \"results.jsonl\").exists():\n",
    "                    experiment_name = experiment.name\n",
    "                    print(experiment_name)\n",
    "                    experiments.append(experiment_name)\n",
    "                    all_results[experiment_name] = []\n",
    "                    with open(experiment / \"results.jsonl\", 'r') as f:\n",
    "                        for line in f:\n",
    "                            all_results[experiment_name].append(json.loads(line))"
   ]
  },
  {
   "attachments": {},
   "cell_type": "markdown",
   "metadata": {},
   "source": [
    "## Data checking"
   ]
  },
  {
   "cell_type": "code",
   "execution_count": 5,
   "metadata": {},
   "outputs": [],
   "source": [
    "# Assert experiments are unique\n",
    "assert len(experiments) == len(set(experiments))\n",
    "\n",
    "# Assert we have all experiments\n",
    "ground_truth_experiments = set()\n",
    "for model in [\"bert_attention\", \"bert_128_fine_tuned\"]:\n",
    "    ground_truth_experiments.add(f\"hatexplain_all-lime-{model}-2\")\n",
    "assert set(experiments) == ground_truth_experiments"
   ]
  },
  {
   "attachments": {},
   "cell_type": "markdown",
   "metadata": {},
   "source": [
    "## Plot graphics"
   ]
  },
  {
   "cell_type": "code",
   "execution_count": 6,
   "metadata": {},
   "outputs": [],
   "source": [
    "def filter_results(results):\n",
    "    \"\"\"Filter the results.\n",
    "\n",
    "    Remove the None and NaN values from the results.\n",
    "\n",
    "    Args:\n",
    "        results (list of float): Results to filter.\n",
    "    \n",
    "    Returns:\n",
    "        list of float: Filtered results.\n",
    "    \"\"\"\n",
    "    return [result for result in results \\\n",
    "        if result is not None and not np.isnan(result)]"
   ]
  },
  {
   "cell_type": "code",
   "execution_count": 7,
   "metadata": {},
   "outputs": [
    {
     "name": "stdout",
     "output_type": "stream",
     "text": [
      "    \"hatexplain_all-lime-bert_attention-2\": 14,\n",
      "    \"hatexplain_all-lime-bert_128_fine_tuned-2\": 14,\n"
     ]
    }
   ],
   "source": [
    "for model in [\"bert_attention\", \"bert_128_fine_tuned\"]:\n",
    "    print(f\"    \\\"hatexplain_all-lime-{model}-2\\\": 14,\")"
   ]
  },
  {
   "cell_type": "code",
   "execution_count": 8,
   "metadata": {},
   "outputs": [],
   "source": [
    "# Manually copied and pasted from the above print statement\n",
    "# Manually set the numbers\n",
    "good_result_map = {\n",
    "    \"hatexplain_all-lime-bert_attention-2\": 4,\n",
    "    \"hatexplain_all-lime-bert_128_fine_tuned-2\": 2,\n",
    "}"
   ]
  },
  {
   "cell_type": "code",
   "execution_count": 9,
   "metadata": {},
   "outputs": [
    {
     "data": {
      "image/png": "[encoded data removed]",
      "text/plain": [
       "<Figure size 252x189 with 3 Axes>"
      ]
     },
     "metadata": {
      "needs_background": "light"
     },
     "output_type": "display_data"
    }
   ],
   "source": [
    "import matplotlib\n",
    "from matplotlib.lines import Line2D\n",
    "\n",
    "fig, ax = plt.subplots(1, 1)\n",
    "\n",
    "performance_metric = \"accuracy\"\n",
    "explainability_metric = \"alternative_auprc\"\n",
    "\n",
    "table = []\n",
    "\n",
    "# bert_attention\n",
    "\n",
    "table_line = []\n",
    "\n",
    "results = all_results[\"hatexplain_all-lime-bert_attention-2\"]\n",
    "results = sorted(results, key=lambda x: x['weight'])\n",
    "weights = [result['weight'] for result in results]\n",
    "\n",
    "x = []\n",
    "y = []\n",
    "for result in results:\n",
    "    x.append(result['performance'][performance_metric])\n",
    "    y.append(\n",
    "        np.mean(\n",
    "            filter_results(result['explainability'][explainability_metric])\n",
    "        )\n",
    "    )\n",
    "good_result_index = good_result_map[\"hatexplain_all-lime-bert_attention-2\"]\n",
    "x_good = x[good_result_index]\n",
    "y_good = y[good_result_index]\n",
    "ax.scatter(x_good, y_good, s=150, facecolors='none', edgecolors='green')\n",
    "\n",
    "table_line.append(\"BERT-HateXplain\")\n",
    "table_line.append(x_good*100)\n",
    "table_line.append(y_good*100)\n",
    "table_line.append(\n",
    "    -np.mean(\n",
    "        filter_results(\n",
    "            results[good_result_index]['explainability']['sufficiency_aopc']\n",
    "        )\n",
    "    )\n",
    ")\n",
    "table_line.append(\n",
    "    np.mean(\n",
    "        filter_results(\n",
    "            results[good_result_index]['explainability']['comprehensiveness_aopc']\n",
    "        )\n",
    "    )\n",
    ")\n",
    "table.append(table_line)\n",
    "\n",
    "norm = plt.Normalize(0, max(weights))\n",
    "cmap = sns.color_palette(\"Blues\", as_cmap=True)\n",
    "cmap_bert_attention = cmap\n",
    "norm = matplotlib.colors.LogNorm(vmin=min(weights), vmax=max(weights))\n",
    "sm = plt.cm.ScalarMappable(cmap=cmap, norm=norm)\n",
    "\n",
    "sns.scatterplot(\n",
    "    x=\"Accuracy\",\n",
    "    y=\"AUPRC\",\n",
    "    data=pd.DataFrame({\n",
    "        \"Accuracy\": x,\n",
    "        \"AUPRC\": y,\n",
    "    }),\n",
    "    hue=weights,\n",
    "    ax=ax,\n",
    "    marker='^',\n",
    "    s=50,\n",
    "    palette=cmap,\n",
    "    hue_norm=norm,\n",
    "    edgecolor='black',\n",
    "    linewidth=0.5,\n",
    ")\n",
    "fig.colorbar(\n",
    "    sm,\n",
    "    orientation=\"vertical\",\n",
    "    label=\"Attention weight ($\\lambda$)\",\n",
    "    location=\"right\",\n",
    "    pad=-0.05,\n",
    ")\n",
    "\n",
    "# bert_128_fine_tuned\n",
    "\n",
    "table_line = []\n",
    "\n",
    "results = all_results[\"hatexplain_all-lime-bert_128_fine_tuned-2\"]\n",
    "results = sorted(results, key=lambda x: x['weight'])\n",
    "results = results[1:]  # Remove the first result (cross-entropy weight = 0)\n",
    "weights = [result['weight'] for result in results]\n",
    "weights = [1 - weight for weight in weights]\n",
    "\n",
    "x = []\n",
    "y = []\n",
    "for result in results:\n",
    "    x.append(result['performance'][performance_metric])\n",
    "    y.append(\n",
    "        np.mean(\n",
    "            filter_results(result['explainability'][explainability_metric])\n",
    "        )\n",
    "    )\n",
    "\n",
    "good_result_index = good_result_map[\"hatexplain_all-lime-bert_128_fine_tuned-2\"]\n",
    "x_good = x[good_result_index]\n",
    "y_good = y[good_result_index]\n",
    "ax.scatter(x_good, y_good, s=150, facecolors='none', edgecolors='green')\n",
    "\n",
    "table_line.append(\"Ours\")\n",
    "table_line.append(x_good*100)\n",
    "table_line.append(y_good*100)\n",
    "table_line.append(\n",
    "    -np.mean(\n",
    "        filter_results(\n",
    "            results[good_result_index]['explainability']['sufficiency_aopc']\n",
    "        )\n",
    "    )\n",
    ")\n",
    "table_line.append(\n",
    "    np.mean(\n",
    "        filter_results(\n",
    "            results[good_result_index]['explainability']['comprehensiveness_aopc']\n",
    "        )\n",
    "    )\n",
    ")\n",
    "table.append(table_line)\n",
    "\n",
    "norm = plt.Normalize(0, 1)\n",
    "cmap = sns.cubehelix_palette(as_cmap=True)\n",
    "sm = plt.cm.ScalarMappable(cmap=cmap, norm=norm)\n",
    "cbar = fig.colorbar(\n",
    "    sm,\n",
    "    orientation=\"vertical\",\n",
    "    label=\"Contrastive rationale weight ($w_2$)\",\n",
    "    location=\"right\",\n",
    "    pad=0.2,\n",
    ")\n",
    "cbar.ax.yaxis.set_label_position('left')\n",
    "cbar.ax.yaxis.set_ticks_position('left')\n",
    "\n",
    "sns.scatterplot(\n",
    "    x=\"Accuracy\",\n",
    "    y=\"AUPRC\",\n",
    "    data=pd.DataFrame({\n",
    "        \"Accuracy\": x,\n",
    "        \"AUPRC\": y,\n",
    "    }),\n",
    "    hue=weights,\n",
    "    ax=ax,\n",
    "    hue_norm=norm,\n",
    "    palette=cmap,\n",
    ")\n",
    "ax.set_aspect('equal', adjustable='datalim')\n",
    "\n",
    "ax.legend_.remove()\n",
    "plt.subplots_adjust(wspace=0.3)\n",
    "plt.savefig(\n",
    "    f\"comparison_graphic.pdf\",\n",
    "    dpi=300,\n",
    "    bbox_inches=\"tight\",\n",
    ")\n",
    "plt.show()\n",
    "plt.close()"
   ]
  },
  {
   "cell_type": "code",
   "execution_count": 10,
   "metadata": {},
   "outputs": [
    {
     "data": {
      "text/html": [
       "<div>\n",
       "<style scoped>\n",
       "    .dataframe tbody tr th:only-of-type {\n",
       "        vertical-align: middle;\n",
       "    }\n",
       "\n",
       "    .dataframe tbody tr th {\n",
       "        vertical-align: top;\n",
       "    }\n",
       "\n",
       "    .dataframe thead th {\n",
       "        text-align: right;\n",
       "    }\n",
       "</style>\n",
       "<table border=\"1\" class=\"dataframe\">\n",
       "  <thead>\n",
       "    <tr style=\"text-align: right;\">\n",
       "      <th></th>\n",
       "      <th>Acc. %</th>\n",
       "      <th>AUPRC %</th>\n",
       "      <th>Suff.</th>\n",
       "      <th>Comp.</th>\n",
       "    </tr>\n",
       "    <tr>\n",
       "      <th>Model</th>\n",
       "      <th></th>\n",
       "      <th></th>\n",
       "      <th></th>\n",
       "      <th></th>\n",
       "    </tr>\n",
       "  </thead>\n",
       "  <tbody>\n",
       "    <tr>\n",
       "      <th>BERT-HateXplain</th>\n",
       "      <td>67.47</td>\n",
       "      <td>72.00</td>\n",
       "      <td>0.12</td>\n",
       "      <td>0.53</td>\n",
       "    </tr>\n",
       "    <tr>\n",
       "      <th>Ours</th>\n",
       "      <td>66.54</td>\n",
       "      <td>73.02</td>\n",
       "      <td>0.14</td>\n",
       "      <td>0.40</td>\n",
       "    </tr>\n",
       "  </tbody>\n",
       "</table>\n",
       "</div>"
      ],
      "text/plain": [
       "                Acc. % AUPRC % Suff. Comp.\n",
       "Model                                     \n",
       "BERT-HateXplain  67.47   72.00  0.12  0.53\n",
       "Ours             66.54   73.02  0.14  0.40"
      ]
     },
     "execution_count": 10,
     "metadata": {},
     "output_type": "execute_result"
    }
   ],
   "source": [
    "table_df = pd.DataFrame(table)\n",
    "table_df.columns = [\"Model\", \"Acc. %\", \"AUPRC %\", \"Suff.\", \"Comp.\"]\n",
    "table_df = table_df.set_index(\"Model\", inplace=False)\n",
    "table_df = table_df.applymap(lambda x: f\"{round(x, 2):.2f}\")\n",
    "table_df"
   ]
  },
  {
   "cell_type": "code",
   "execution_count": 11,
   "metadata": {},
   "outputs": [
    {
     "name": "stdout",
     "output_type": "stream",
     "text": [
      "\\begin{tabular}{l|cccc}\n",
      "\\hline\n",
      "\\textbf{Model} & \\textbf{Acc. \\%} & \\textbf{AUPRC \\%} & \\textbf{Suff.} & \\textbf{Comp.} \\\\\n",
      "\n",
      "\\hline\n",
      "BERT-HateXplain &  67.47 &   72.00 &  0.12 &  0.53 \\\\\n",
      "Ours            &  66.54 &   73.02 &  0.14 &  0.40 \\\\\n",
      "\\hline\n",
      "\\end{tabular}\n",
      "\n"
     ]
    }
   ],
   "source": [
    "latex = table_df.to_latex()\n",
    "latex = latex.replace(\"{lllll}\", \"{l|cccc}\")\n",
    "latex = latex.replace(r\"\\toprule\", r\"\\hline\")\n",
    "latex = latex.replace(r\"\\midrule\", r\"\\hline\")\n",
    "latex = latex.replace(r\"\\bottomrule\", r\"\\hline\")\n",
    "latex = latex.replace(\n",
    "    r\"{} & Acc. \\% & AUPRC \\% & Suff. & Comp. \\\\\",\n",
    "    r\"\\textbf{Model} & \\textbf{Acc. \\%} & \\textbf{AUPRC \\%} & \\textbf{Suff.} & \\textbf{Comp.} \\\\\"\n",
    ")\n",
    "latex = latex.replace(\n",
    "    r\"Model           &        &         &       &       \\\\\",\n",
    "    \"\",\n",
    ")\n",
    "print(latex)"
   ]
  }
 ],
 "metadata": {
  "kernelspec": {
   "display_name": "explainability-experiments-clone",
   "language": "python",
   "name": "python3"
  },
  "language_info": {
   "codemirror_mode": {
    "name": "ipython",
    "version": 3
   },
   "file_extension": ".py",
   "mimetype": "text/x-python",
   "name": "python",
   "nbconvert_exporter": "python",
   "pygments_lexer": "ipython3",
   "version": "3.7.13"
  },
  "orig_nbformat": 4,
  "vscode": {
   "interpreter": {
    "hash": "91f38a7eba530c0d2410741fe2786371fc960c0e41229cff448fdbb4c08e5ebe"
   }
  }
 },
 "nbformat": 4,
 "nbformat_minor": 2
}
